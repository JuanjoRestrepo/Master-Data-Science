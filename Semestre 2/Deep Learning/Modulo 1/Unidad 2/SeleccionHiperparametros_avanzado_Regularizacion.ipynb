{
  "nbformat": 4,
  "nbformat_minor": 0,
  "metadata": {
    "colab": {
      "provenance": []
    },
    "kernelspec": {
      "name": "python3",
      "display_name": "Python 3"
    },
    "language_info": {
      "name": "python"
    },
    "accelerator": "GPU",
    "gpuClass": "standard"
  },
  "cells": [
    {
      "cell_type": "markdown",
      "source": [
        "# Programa Ejemplo para la sintonización de hiperparámetros en redes neuronales (Regularización).\n",
        "\n",
        "En este ejemplo se estudia cómo usar la búsqueda de hiperparámetros para determinar, de forma adecuada, la regularización. En este ejemplo solo se usa el dropout; sin embargo, se puede extender a la regularización L1 y L2.\n",
        "\n",
        "## Etapa 1: Carga de los datos.\n",
        "\n",
        "Antes de comenzar a definir la red neuronal, cargamos la base de datos de interés. Para este ejemplo, usaremos la base de datos MNIST, la cual consiste en identificar dígitos escritos a mano alzada https://keras.io/api/datasets/mnist/. Esta base de datos configura un problema de 10 clases, una clase por cada dígito numérico (0-9)."
      ],
      "metadata": {
        "id": "vTLhUAwbObCP"
      }
    },
    {
      "cell_type": "markdown",
      "source": [
        "Se cargan las librerías necesarias"
      ],
      "metadata": {
        "id": "p5rWNhyRRpxI"
      }
    },
    {
      "cell_type": "code",
      "source": [
        "!pip install keras-tuner --upgrade"
      ],
      "metadata": {
        "colab": {
          "base_uri": "https://localhost:8080/"
        },
        "id": "RI-ZQrKSoQ9c",
        "outputId": "c204f8b2-354f-40ea-d900-5a10bdc0c72f"
      },
      "execution_count": 12,
      "outputs": [
        {
          "output_type": "stream",
          "name": "stdout",
          "text": [
            "Requirement already satisfied: keras-tuner in /usr/local/lib/python3.10/dist-packages (1.4.7)\n",
            "Requirement already satisfied: keras in /usr/local/lib/python3.10/dist-packages (from keras-tuner) (3.4.1)\n",
            "Requirement already satisfied: packaging in /usr/local/lib/python3.10/dist-packages (from keras-tuner) (24.1)\n",
            "Requirement already satisfied: requests in /usr/local/lib/python3.10/dist-packages (from keras-tuner) (2.32.3)\n",
            "Requirement already satisfied: kt-legacy in /usr/local/lib/python3.10/dist-packages (from keras-tuner) (1.0.5)\n",
            "Requirement already satisfied: absl-py in /usr/local/lib/python3.10/dist-packages (from keras->keras-tuner) (1.4.0)\n",
            "Requirement already satisfied: numpy in /usr/local/lib/python3.10/dist-packages (from keras->keras-tuner) (1.26.4)\n",
            "Requirement already satisfied: rich in /usr/local/lib/python3.10/dist-packages (from keras->keras-tuner) (13.9.2)\n",
            "Requirement already satisfied: namex in /usr/local/lib/python3.10/dist-packages (from keras->keras-tuner) (0.0.8)\n",
            "Requirement already satisfied: h5py in /usr/local/lib/python3.10/dist-packages (from keras->keras-tuner) (3.11.0)\n",
            "Requirement already satisfied: optree in /usr/local/lib/python3.10/dist-packages (from keras->keras-tuner) (0.13.0)\n",
            "Requirement already satisfied: ml-dtypes in /usr/local/lib/python3.10/dist-packages (from keras->keras-tuner) (0.4.1)\n",
            "Requirement already satisfied: charset-normalizer<4,>=2 in /usr/local/lib/python3.10/dist-packages (from requests->keras-tuner) (3.4.0)\n",
            "Requirement already satisfied: idna<4,>=2.5 in /usr/local/lib/python3.10/dist-packages (from requests->keras-tuner) (3.10)\n",
            "Requirement already satisfied: urllib3<3,>=1.21.1 in /usr/local/lib/python3.10/dist-packages (from requests->keras-tuner) (2.2.3)\n",
            "Requirement already satisfied: certifi>=2017.4.17 in /usr/local/lib/python3.10/dist-packages (from requests->keras-tuner) (2024.8.30)\n",
            "Requirement already satisfied: typing-extensions>=4.5.0 in /usr/local/lib/python3.10/dist-packages (from optree->keras->keras-tuner) (4.12.2)\n",
            "Requirement already satisfied: markdown-it-py>=2.2.0 in /usr/local/lib/python3.10/dist-packages (from rich->keras->keras-tuner) (3.0.0)\n",
            "Requirement already satisfied: pygments<3.0.0,>=2.13.0 in /usr/local/lib/python3.10/dist-packages (from rich->keras->keras-tuner) (2.18.0)\n",
            "Requirement already satisfied: mdurl~=0.1 in /usr/local/lib/python3.10/dist-packages (from markdown-it-py>=2.2.0->rich->keras->keras-tuner) (0.1.2)\n"
          ]
        }
      ]
    },
    {
      "cell_type": "code",
      "source": [
        "import tensorflow as tf\n",
        "import matplotlib.pyplot as plt\n",
        "from tensorflow.keras.models import Sequential\n",
        "from tensorflow.keras.layers import Dense, Dropout\n",
        "from keras.utils import plot_model\n",
        "from sklearn.model_selection import train_test_split, RandomizedSearchCV\n",
        "\n",
        "from keras_tuner import RandomSearch"
      ],
      "metadata": {
        "id": "tdVwj-msQbDH"
      },
      "execution_count": 13,
      "outputs": []
    },
    {
      "cell_type": "markdown",
      "source": [
        "Se carga la base de datos y se divide en los conjunto de entrenamiento y prueba. Hay 60000 imágenes para el entrenamiento y 10000 en el conjunto de prueba."
      ],
      "metadata": {
        "id": "ji7OUMc4RvLh"
      }
    },
    {
      "cell_type": "code",
      "source": [
        "(x_train, y_train), (x_test, y_test) = tf.keras.datasets.mnist.load_data()"
      ],
      "metadata": {
        "id": "C3qGwt9qQRDa",
        "colab": {
          "base_uri": "https://localhost:8080/"
        },
        "outputId": "368f94c0-be46-4af3-82f1-1e2690fb9b5c"
      },
      "execution_count": 3,
      "outputs": [
        {
          "output_type": "stream",
          "name": "stdout",
          "text": [
            "Downloading data from https://storage.googleapis.com/tensorflow/tf-keras-datasets/mnist.npz\n",
            "\u001b[1m11490434/11490434\u001b[0m \u001b[32m━━━━━━━━━━━━━━━━━━━━\u001b[0m\u001b[37m\u001b[0m \u001b[1m1s\u001b[0m 0us/step\n"
          ]
        }
      ]
    },
    {
      "cell_type": "markdown",
      "source": [
        "Se divide el train en validation"
      ],
      "metadata": {
        "id": "uzUaBI52Xy2K"
      }
    },
    {
      "cell_type": "code",
      "source": [
        "x_train, x_val, y_train, y_val = train_test_split(x_train, y_train, test_size = 0.1)"
      ],
      "metadata": {
        "id": "F6NXpzjPXid0"
      },
      "execution_count": 4,
      "outputs": []
    },
    {
      "cell_type": "code",
      "source": [
        "\n",
        "print(x_train.shape, y_train.shape, x_val.shape, y_val.shape)"
      ],
      "metadata": {
        "colab": {
          "base_uri": "https://localhost:8080/"
        },
        "id": "EKKLSqNaQhcT",
        "outputId": "d648e55f-e912-4eab-cebb-e8aeddb195e3"
      },
      "execution_count": 5,
      "outputs": [
        {
          "output_type": "stream",
          "name": "stdout",
          "text": [
            "(54000, 28, 28) (54000,) (6000, 28, 28) (6000,)\n"
          ]
        }
      ]
    },
    {
      "cell_type": "markdown",
      "source": [
        "Las imágenes tienen tamaño 28x28. A continuación de muestran algunos ejemplos.\n"
      ],
      "metadata": {
        "id": "_kVMrhB4SwWU"
      }
    },
    {
      "cell_type": "code",
      "source": [
        "fig = plt.figure()\n",
        "for i in range(9):\n",
        "  plt.subplot(3,3,i+1)\n",
        "  plt.tight_layout()\n",
        "  plt.imshow(x_train[i], cmap='gray', interpolation='none')\n",
        "  plt.title(\"Digit: {}\".format(y_train[i]))\n",
        "  plt.xticks([])\n",
        "  plt.yticks([])\n",
        "fig"
      ],
      "metadata": {
        "colab": {
          "base_uri": "https://localhost:8080/",
          "height": 909
        },
        "id": "JZVZFB01WzaJ",
        "outputId": "bea652ad-ada1-4c51-b642-aeb6e6319d54"
      },
      "execution_count": 6,
      "outputs": [
        {
          "output_type": "execute_result",
          "data": {
            "text/plain": [
              "<Figure size 640x480 with 9 Axes>"
            ],
            "image/png": "[encoded data removed]"
          },
          "metadata": {},
          "execution_count": 6
        },
        {
          "output_type": "display_data",
          "data": {
            "text/plain": [
              "<Figure size 640x480 with 9 Axes>"
            ],
            "image/png": "[encoded data removed]"
          },
          "metadata": {}
        }
      ]
    },
    {
      "cell_type": "code",
      "source": [
        "d1, d2, d3 = x_train.shape\n",
        "x_train_flat = x_train.reshape((d1, d2*d3))/255\n",
        "d1, d2, d3 = x_test.shape\n",
        "x_test_flat = x_test.reshape((d1, d2*d3))/255\n",
        "d1, d2, d3 = x_val.shape\n",
        "x_val_flat = x_val.reshape((d1, d2 * d3)) / 255\n",
        "\n",
        "print(x_train_flat.shape, x_test_flat.shape, x_val_flat.shape)"
      ],
      "metadata": {
        "colab": {
          "base_uri": "https://localhost:8080/"
        },
        "id": "X7QDzicfizwi",
        "outputId": "36aece21-53de-4a94-8cf8-9881631fae65"
      },
      "execution_count": 7,
      "outputs": [
        {
          "output_type": "stream",
          "name": "stdout",
          "text": [
            "(54000, 784) (10000, 784) (6000, 784)\n"
          ]
        }
      ]
    },
    {
      "cell_type": "markdown",
      "source": [
        "\n",
        "# Búsqueda de hiperparámetros a partir de la búsqueda aleatoria\n",
        "\n",
        "Ejemplo avanzado donde el número de capas también se trata como un hiperparámetro"
      ],
      "metadata": {
        "id": "M0TVXTlvjgBE"
      }
    },
    {
      "cell_type": "code",
      "source": [
        "# Número de épocas para los experimentos\n",
        "epochs = 5"
      ],
      "metadata": {
        "id": "1imxvsCsrkQa"
      },
      "execution_count": 8,
      "outputs": []
    },
    {
      "cell_type": "code",
      "source": [
        "def build_model_1(hp):\n",
        "  model = Sequential()\n",
        "  for i in range(hp.Int('num_layers', 1, 3, 1)): # range(2)\n",
        "    model.add(Dense(units = hp.Choice('units'+str(i+1), [256, 512]), activation = hp.Choice('activation'+str(i+1), ['relu', 'sigmoid'])))\n",
        "    if hp.Boolean(\"dropout\"+str(i+1)):\n",
        "        model.add(Dropout(rate=hp.Choice('DropRate'+str(i+1), [0.2, 0.4, 0.6]),))\n",
        "  model.add(Dense(10, activation = 'softmax'))\n",
        "  optimizer = tf.keras.optimizers.Adam(hp.Choice('learning_rate', [0.01, 0.001]))\n",
        "  model.compile(loss='sparse_categorical_crossentropy', optimizer = optimizer, metrics = ['accuracy'])\n",
        "  return model"
      ],
      "metadata": {
        "id": "5513jJrpjqR3"
      },
      "execution_count": 9,
      "outputs": []
    },
    {
      "cell_type": "code",
      "source": [
        "tuner_1 = RandomSearch(build_model_1, objective = 'val_loss', max_trials = 10)\n",
        "tuner_1.search(x_train_flat, y_train, epochs = epochs, validation_data = (x_val_flat, y_val), verbose=2)\n",
        "best_model_1 = tuner_1.get_best_models()[0]"
      ],
      "metadata": {
        "id": "yUiw1df2kfHw",
        "colab": {
          "base_uri": "https://localhost:8080/"
        },
        "outputId": "8bc8744d-a716-4a6c-df83-fea10908afd8"
      },
      "execution_count": 10,
      "outputs": [
        {
          "output_type": "stream",
          "name": "stdout",
          "text": [
            "Trial 20 Complete [00h 00m 26s]\n",
            "val_loss: 0.12886084616184235\n",
            "\n",
            "Best val_loss So Far: 0.07712353765964508\n",
            "Total elapsed time: 00h 08m 45s\n"
          ]
        },
        {
          "output_type": "stream",
          "name": "stderr",
          "text": [
            "/usr/local/lib/python3.10/dist-packages/keras/src/saving/saving_lib.py:576: UserWarning: Skipping variable loading for optimizer 'adam', because it has 2 variables whereas the saved optimizer has 10 variables. \n",
            "  saveable.load_own_variables(weights_store.get(inner_path))\n"
          ]
        }
      ]
    },
    {
      "cell_type": "code",
      "source": [
        "test_loss, test_acc = best_model_1.evaluate(x_test_flat, y_test)\n",
        "print('test_acc:', test_acc)"
      ],
      "metadata": {
        "colab": {
          "base_uri": "https://localhost:8080/"
        },
        "id": "3OQe-j9FrQDi",
        "outputId": "c10d43f2-f316-452a-e709-e131875d6d3a"
      },
      "execution_count": null,
      "outputs": [
        {
          "output_type": "stream",
          "name": "stdout",
          "text": [
            "313/313 [==============================] - 1s 2ms/step - loss: 0.0655 - accuracy: 0.9809\n",
            "test_acc: 0.98089998960495\n"
          ]
        }
      ]
    },
    {
      "cell_type": "code",
      "source": [
        "tf.keras.utils.plot_model(best_model_1)"
      ],
      "metadata": {
        "colab": {
          "base_uri": "https://localhost:8080/",
          "height": 614
        },
        "id": "0N3vZH7mYCwA",
        "outputId": "55ea8d74-89a6-4774-d260-bdb69719f648"
      },
      "execution_count": 11,
      "outputs": [
        {
          "output_type": "execute_result",
          "data": {
            "image/png": "[encoded data removed]",
            "text/plain": [
              "<IPython.core.display.Image object>"
            ]
          },
          "metadata": {},
          "execution_count": 11
        }
      ]
    }
  ]
}