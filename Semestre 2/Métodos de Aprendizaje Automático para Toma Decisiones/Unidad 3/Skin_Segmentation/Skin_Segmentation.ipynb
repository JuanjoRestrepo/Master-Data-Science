{
  "nbformat": 4,
  "nbformat_minor": 0,
  "metadata": {
    "colab": {
      "provenance": [],
      "gpuType": "V28",
      "collapsed_sections": [
        "wWC5dWRWBoNZ",
        "0pDQoi4YBsOd",
        "jcgdS1UiCHf3",
        "0LhZoXrCCJdh",
        "6QROiO5PCW6v",
        "iUfo8TLLJjJD",
        "2sVVkAjm9BAj",
        "EiQ4R10B-El9",
        "QDtfrejGHiFf"
      ]
    },
    "kernelspec": {
      "name": "python3",
      "display_name": "Python 3"
    },
    "language_info": {
      "name": "python"
    },
    "accelerator": "TPU"
  },
  "cells": [
    {
      "cell_type": "code",
      "source": [
        "#!pip install pyod            # normal install\n",
        "#!pip install --upgrade pyod  # or update if needed"
      ],
      "metadata": {
        "id": "nlFBU4Ge9AWT"
      },
      "execution_count": 1,
      "outputs": []
    },
    {
      "cell_type": "markdown",
      "source": [
        "# 1. Importación de librerías necesarias"
      ],
      "metadata": {
        "id": "wWC5dWRWBoNZ"
      }
    },
    {
      "cell_type": "code",
      "source": [
        "import pandas as pd\n",
        "import numpy as np\n",
        "import matplotlib.pyplot as plt\n",
        "import seaborn as sns\n",
        "\n",
        "from sklearn.model_selection import train_test_split, cross_val_score, KFold\n",
        "from sklearn.linear_model import LogisticRegression\n",
        "\n",
        "from sklearn.metrics import accuracy_score, confusion_matrix, recall_score, precision_score, f1_score, roc_auc_score, classification_report\n",
        "from sklearn.decomposition import PCA\n",
        "from sklearn.preprocessing import StandardScaler\n",
        "\n",
        "# Para detección de outliers\n",
        "from pyod.models.knn import KNN\n",
        "\n",
        "from scipy.stats import norm"
      ],
      "metadata": {
        "id": "5lXssLcFBY7j"
      },
      "execution_count": 2,
      "outputs": []
    },
    {
      "cell_type": "markdown",
      "source": [
        "# 2. Carga del conjunto de datos"
      ],
      "metadata": {
        "id": "0pDQoi4YBsOd"
      }
    },
    {
      "cell_type": "code",
      "source": [
        "from google.colab import drive\n",
        "drive.mount('/content/drive')"
      ],
      "metadata": {
        "colab": {
          "base_uri": "https://localhost:8080/"
        },
        "id": "goZSI9siA8Li",
        "outputId": "a0a0784d-fd01-41be-afb6-715204985ce7"
      },
      "execution_count": 3,
      "outputs": [
        {
          "output_type": "stream",
          "name": "stdout",
          "text": [
            "Drive already mounted at /content/drive; to attempt to forcibly remount, call drive.mount(\"/content/drive\", force_remount=True).\n"
          ]
        }
      ]
    },
    {
      "cell_type": "code",
      "source": [
        "from google.colab import files\n",
        "uploaded = files.upload()"
      ],
      "metadata": {
        "id": "pq3DTjb-AFne",
        "outputId": "06e6f116-bada-4b10-c349-4b7e250619c5",
        "colab": {
          "base_uri": "https://localhost:8080/",
          "height": 36
        }
      },
      "execution_count": 4,
      "outputs": [
        {
          "output_type": "display_data",
          "data": {
            "text/plain": [
              "<IPython.core.display.HTML object>"
            ],
            "text/html": [
              "\n",
              "     <input type=\"file\" id=\"files-9d3bf421-c641-4f98-a59a-54bb9f989ee6\" name=\"files[]\" multiple disabled\n",
              "        style=\"border:none\" />\n",
              "     <output id=\"result-9d3bf421-c641-4f98-a59a-54bb9f989ee6\">\n",
              "      Upload widget is only available when the cell has been executed in the\n",
              "      current browser session. Please rerun this cell to enable.\n",
              "      </output>\n",
              "      <script>// Copyright 2017 Google LLC\n",
              "//\n",
              "// Licensed under the Apache License, Version 2.0 (the \"License\");\n",
              "// you may not use this file except in compliance with the License.\n",
              "// You may obtain a copy of the License at\n",
              "//\n",
              "//      http://www.apache.org/licenses/LICENSE-2.0\n",
              "//\n",
              "// Unless required by applicable law or agreed to in writing, software\n",
              "// distributed under the License is distributed on an \"AS IS\" BASIS,\n",
              "// WITHOUT WARRANTIES OR CONDITIONS OF ANY KIND, either express or implied.\n",
              "// See the License for the specific language governing permissions and\n",
              "// limitations under the License.\n",
              "\n",
              "/**\n",
              " * @fileoverview Helpers for google.colab Python module.\n",
              " */\n",
              "(function(scope) {\n",
              "function span(text, styleAttributes = {}) {\n",
              "  const element = document.createElement('span');\n",
              "  element.textContent = text;\n",
              "  for (const key of Object.keys(styleAttributes)) {\n",
              "    element.style[key] = styleAttributes[key];\n",
              "  }\n",
              "  return element;\n",
              "}\n",
              "\n",
              "// Max number of bytes which will be uploaded at a time.\n",
              "const MAX_PAYLOAD_SIZE = 100 * 1024;\n",
              "\n",
              "function _uploadFiles(inputId, outputId) {\n",
              "  const steps = uploadFilesStep(inputId, outputId);\n",
              "  const outputElement = document.getElementById(outputId);\n",
              "  // Cache steps on the outputElement to make it available for the next call\n",
              "  // to uploadFilesContinue from Python.\n",
              "  outputElement.steps = steps;\n",
              "\n",
              "  return _uploadFilesContinue(outputId);\n",
              "}\n",
              "\n",
              "// This is roughly an async generator (not supported in the browser yet),\n",
              "// where there are multiple asynchronous steps and the Python side is going\n",
              "// to poll for completion of each step.\n",
              "// This uses a Promise to block the python side on completion of each step,\n",
              "// then passes the result of the previous step as the input to the next step.\n",
              "function _uploadFilesContinue(outputId) {\n",
              "  const outputElement = document.getElementById(outputId);\n",
              "  const steps = outputElement.steps;\n",
              "\n",
              "  const next = steps.next(outputElement.lastPromiseValue);\n",
              "  return Promise.resolve(next.value.promise).then((value) => {\n",
              "    // Cache the last promise value to make it available to the next\n",
              "    // step of the generator.\n",
              "    outputElement.lastPromiseValue = value;\n",
              "    return next.value.response;\n",
              "  });\n",
              "}\n",
              "\n",
              "/**\n",
              " * Generator function which is called between each async step of the upload\n",
              " * process.\n",
              " * @param {string} inputId Element ID of the input file picker element.\n",
              " * @param {string} outputId Element ID of the output display.\n",
              " * @return {!Iterable<!Object>} Iterable of next steps.\n",
              " */\n",
              "function* uploadFilesStep(inputId, outputId) {\n",
              "  const inputElement = document.getElementById(inputId);\n",
              "  inputElement.disabled = false;\n",
              "\n",
              "  const outputElement = document.getElementById(outputId);\n",
              "  outputElement.innerHTML = '';\n",
              "\n",
              "  const pickedPromise = new Promise((resolve) => {\n",
              "    inputElement.addEventListener('change', (e) => {\n",
              "      resolve(e.target.files);\n",
              "    });\n",
              "  });\n",
              "\n",
              "  const cancel = document.createElement('button');\n",
              "  inputElement.parentElement.appendChild(cancel);\n",
              "  cancel.textContent = 'Cancel upload';\n",
              "  const cancelPromise = new Promise((resolve) => {\n",
              "    cancel.onclick = () => {\n",
              "      resolve(null);\n",
              "    };\n",
              "  });\n",
              "\n",
              "  // Wait for the user to pick the files.\n",
              "  const files = yield {\n",
              "    promise: Promise.race([pickedPromise, cancelPromise]),\n",
              "    response: {\n",
              "      action: 'starting',\n",
              "    }\n",
              "  };\n",
              "\n",
              "  cancel.remove();\n",
              "\n",
              "  // Disable the input element since further picks are not allowed.\n",
              "  inputElement.disabled = true;\n",
              "\n",
              "  if (!files) {\n",
              "    return {\n",
              "      response: {\n",
              "        action: 'complete',\n",
              "      }\n",
              "    };\n",
              "  }\n",
              "\n",
              "  for (const file of files) {\n",
              "    const li = document.createElement('li');\n",
              "    li.append(span(file.name, {fontWeight: 'bold'}));\n",
              "    li.append(span(\n",
              "        `(${file.type || 'n/a'}) - ${file.size} bytes, ` +\n",
              "        `last modified: ${\n",
              "            file.lastModifiedDate ? file.lastModifiedDate.toLocaleDateString() :\n",
              "                                    'n/a'} - `));\n",
              "    const percent = span('0% done');\n",
              "    li.appendChild(percent);\n",
              "\n",
              "    outputElement.appendChild(li);\n",
              "\n",
              "    const fileDataPromise = new Promise((resolve) => {\n",
              "      const reader = new FileReader();\n",
              "      reader.onload = (e) => {\n",
              "        resolve(e.target.result);\n",
              "      };\n",
              "      reader.readAsArrayBuffer(file);\n",
              "    });\n",
              "    // Wait for the data to be ready.\n",
              "    let fileData = yield {\n",
              "      promise: fileDataPromise,\n",
              "      response: {\n",
              "        action: 'continue',\n",
              "      }\n",
              "    };\n",
              "\n",
              "    // Use a chunked sending to avoid message size limits. See b/62115660.\n",
              "    let position = 0;\n",
              "    do {\n",
              "      const length = Math.min(fileData.byteLength - position, MAX_PAYLOAD_SIZE);\n",
              "      const chunk = new Uint8Array(fileData, position, length);\n",
              "      position += length;\n",
              "\n",
              "      const base64 = btoa(String.fromCharCode.apply(null, chunk));\n",
              "      yield {\n",
              "        response: {\n",
              "          action: 'append',\n",
              "          file: file.name,\n",
              "          data: base64,\n",
              "        },\n",
              "      };\n",
              "\n",
              "      let percentDone = fileData.byteLength === 0 ?\n",
              "          100 :\n",
              "          Math.round((position / fileData.byteLength) * 100);\n",
              "      percent.textContent = `${percentDone}% done`;\n",
              "\n",
              "    } while (position < fileData.byteLength);\n",
              "  }\n",
              "\n",
              "  // All done.\n",
              "  yield {\n",
              "    response: {\n",
              "      action: 'complete',\n",
              "    }\n",
              "  };\n",
              "}\n",
              "\n",
              "scope.google = scope.google || {};\n",
              "scope.google.colab = scope.google.colab || {};\n",
              "scope.google.colab._files = {\n",
              "  _uploadFiles,\n",
              "  _uploadFilesContinue,\n",
              "};\n",
              "})(self);\n",
              "</script> "
            ]
          },
          "metadata": {}
        }
      ]
    },
    {
      "cell_type": "code",
      "source": [
        "path = '/content/drive/MyDrive/Skin_Segmentation/dataset.csv'\n",
        "df = pd.read_csv(path)"
      ],
      "metadata": {
        "id": "-lxPhTaSBJjI"
      },
      "execution_count": 5,
      "outputs": []
    },
    {
      "cell_type": "markdown",
      "source": [
        "# 3. Análisis exploratorio de datos (EDA)"
      ],
      "metadata": {
        "id": "jcgdS1UiCHf3"
      }
    },
    {
      "cell_type": "code",
      "source": [
        "df.head(1000)"
      ],
      "metadata": {
        "colab": {
          "base_uri": "https://localhost:8080/",
          "height": 424
        },
        "id": "ss9p51U6CtoP",
        "outputId": "d31fe82b-8ca7-4c44-837e-0c8ed8f1dfde"
      },
      "execution_count": 6,
      "outputs": [
        {
          "output_type": "execute_result",
          "data": {
            "text/plain": [
              "       B    G    R  Y\n",
              "0     74   85  123  1\n",
              "1     73   84  122  1\n",
              "2     72   83  121  1\n",
              "3     70   81  119  1\n",
              "4     70   81  119  1\n",
              "..   ...  ...  ... ..\n",
              "995  210  216  253  1\n",
              "996  210  216  251  1\n",
              "997  210  216  251  1\n",
              "998  209  218  252  1\n",
              "999  208  216  253  1\n",
              "\n",
              "[1000 rows x 4 columns]"
            ],
            "text/html": [
              "\n",
              "  <div id=\"df-ad0af894-e1bd-411e-9f0f-10d8608a813a\" class=\"colab-df-container\">\n",
              "    <div>\n",
              "<style scoped>\n",
              "    .dataframe tbody tr th:only-of-type {\n",
              "        vertical-align: middle;\n",
              "    }\n",
              "\n",
              "    .dataframe tbody tr th {\n",
              "        vertical-align: top;\n",
              "    }\n",
              "\n",
              "    .dataframe thead th {\n",
              "        text-align: right;\n",
              "    }\n",
              "</style>\n",
              "<table border=\"1\" class=\"dataframe\">\n",
              "  <thead>\n",
              "    <tr style=\"text-align: right;\">\n",
              "      <th></th>\n",
              "      <th>B</th>\n",
              "      <th>G</th>\n",
              "      <th>R</th>\n",
              "      <th>Y</th>\n",
              "    </tr>\n",
              "  </thead>\n",
              "  <tbody>\n",
              "    <tr>\n",
              "      <th>0</th>\n",
              "      <td>74</td>\n",
              "      <td>85</td>\n",
              "      <td>123</td>\n",
              "      <td>1</td>\n",
              "    </tr>\n",
              "    <tr>\n",
              "      <th>1</th>\n",
              "      <td>73</td>\n",
              "      <td>84</td>\n",
              "      <td>122</td>\n",
              "      <td>1</td>\n",
              "    </tr>\n",
              "    <tr>\n",
              "      <th>2</th>\n",
              "      <td>72</td>\n",
              "      <td>83</td>\n",
              "      <td>121</td>\n",
              "      <td>1</td>\n",
              "    </tr>\n",
              "    <tr>\n",
              "      <th>3</th>\n",
              "      <td>70</td>\n",
              "      <td>81</td>\n",
              "      <td>119</td>\n",
              "      <td>1</td>\n",
              "    </tr>\n",
              "    <tr>\n",
              "      <th>4</th>\n",
              "      <td>70</td>\n",
              "      <td>81</td>\n",
              "      <td>119</td>\n",
              "      <td>1</td>\n",
              "    </tr>\n",
              "    <tr>\n",
              "      <th>...</th>\n",
              "      <td>...</td>\n",
              "      <td>...</td>\n",
              "      <td>...</td>\n",
              "      <td>...</td>\n",
              "    </tr>\n",
              "    <tr>\n",
              "      <th>995</th>\n",
              "      <td>210</td>\n",
              "      <td>216</td>\n",
              "      <td>253</td>\n",
              "      <td>1</td>\n",
              "    </tr>\n",
              "    <tr>\n",
              "      <th>996</th>\n",
              "      <td>210</td>\n",
              "      <td>216</td>\n",
              "      <td>251</td>\n",
              "      <td>1</td>\n",
              "    </tr>\n",
              "    <tr>\n",
              "      <th>997</th>\n",
              "      <td>210</td>\n",
              "      <td>216</td>\n",
              "      <td>251</td>\n",
              "      <td>1</td>\n",
              "    </tr>\n",
              "    <tr>\n",
              "      <th>998</th>\n",
              "      <td>209</td>\n",
              "      <td>218</td>\n",
              "      <td>252</td>\n",
              "      <td>1</td>\n",
              "    </tr>\n",
              "    <tr>\n",
              "      <th>999</th>\n",
              "      <td>208</td>\n",
              "      <td>216</td>\n",
              "      <td>253</td>\n",
              "      <td>1</td>\n",
              "    </tr>\n",
              "  </tbody>\n",
              "</table>\n",
              "<p>1000 rows × 4 columns</p>\n",
              "</div>\n",
              "    <div class=\"colab-df-buttons\">\n",
              "\n",
              "  <div class=\"colab-df-container\">\n",
              "    <button class=\"colab-df-convert\" onclick=\"convertToInteractive('df-ad0af894-e1bd-411e-9f0f-10d8608a813a')\"\n",
              "            title=\"Convert this dataframe to an interactive table.\"\n",
              "            style=\"display:none;\">\n",
              "\n",
              "  <svg xmlns=\"http://www.w3.org/2000/svg\" height=\"24px\" viewBox=\"0 -960 960 960\">\n",
              "    <path d=\"M120-120v-720h720v720H120Zm60-500h600v-160H180v160Zm220 220h160v-160H400v160Zm0 220h160v-160H400v160ZM180-400h160v-160H180v160Zm440 0h160v-160H620v160ZM180-180h160v-160H180v160Zm440 0h160v-160H620v160Z\"/>\n",
              "  </svg>\n",
              "    </button>\n",
              "\n",
              "  <style>\n",
              "    .colab-df-container {\n",
              "      display:flex;\n",
              "      gap: 12px;\n",
              "    }\n",
              "\n",
              "    .colab-df-convert {\n",
              "      background-color: #E8F0FE;\n",
              "      border: none;\n",
              "      border-radius: 50%;\n",
              "      cursor: pointer;\n",
              "      display: none;\n",
              "      fill: #1967D2;\n",
              "      height: 32px;\n",
              "      padding: 0 0 0 0;\n",
              "      width: 32px;\n",
              "    }\n",
              "\n",
              "    .colab-df-convert:hover {\n",
              "      background-color: #E2EBFA;\n",
              "      box-shadow: 0px 1px 2px rgba(60, 64, 67, 0.3), 0px 1px 3px 1px rgba(60, 64, 67, 0.15);\n",
              "      fill: #174EA6;\n",
              "    }\n",
              "\n",
              "    .colab-df-buttons div {\n",
              "      margin-bottom: 4px;\n",
              "    }\n",
              "\n",
              "    [theme=dark] .colab-df-convert {\n",
              "      background-color: #3B4455;\n",
              "      fill: #D2E3FC;\n",
              "    }\n",
              "\n",
              "    [theme=dark] .colab-df-convert:hover {\n",
              "      background-color: #434B5C;\n",
              "      box-shadow: 0px 1px 3px 1px rgba(0, 0, 0, 0.15);\n",
              "      filter: drop-shadow(0px 1px 2px rgba(0, 0, 0, 0.3));\n",
              "      fill: #FFFFFF;\n",
              "    }\n",
              "  </style>\n",
              "\n",
              "    <script>\n",
              "      const buttonEl =\n",
              "        document.querySelector('#df-ad0af894-e1bd-411e-9f0f-10d8608a813a button.colab-df-convert');\n",
              "      buttonEl.style.display =\n",
              "        google.colab.kernel.accessAllowed ? 'block' : 'none';\n",
              "\n",
              "      async function convertToInteractive(key) {\n",
              "        const element = document.querySelector('#df-ad0af894-e1bd-411e-9f0f-10d8608a813a');\n",
              "        const dataTable =\n",
              "          await google.colab.kernel.invokeFunction('convertToInteractive',\n",
              "                                                    [key], {});\n",
              "        if (!dataTable) return;\n",
              "\n",
              "        const docLinkHtml = 'Like what you see? Visit the ' +\n",
              "          '<a target=\"_blank\" href=https://colab.research.google.com/notebooks/data_table.ipynb>data table notebook</a>'\n",
              "          + ' to learn more about interactive tables.';\n",
              "        element.innerHTML = '';\n",
              "        dataTable['output_type'] = 'display_data';\n",
              "        await google.colab.output.renderOutput(dataTable, element);\n",
              "        const docLink = document.createElement('div');\n",
              "        docLink.innerHTML = docLinkHtml;\n",
              "        element.appendChild(docLink);\n",
              "      }\n",
              "    </script>\n",
              "  </div>\n",
              "\n",
              "\n",
              "<div id=\"df-e3ec96b0-63fd-4539-9bcd-55a324b726ca\">\n",
              "  <button class=\"colab-df-quickchart\" onclick=\"quickchart('df-e3ec96b0-63fd-4539-9bcd-55a324b726ca')\"\n",
              "            title=\"Suggest charts\"\n",
              "            style=\"display:none;\">\n",
              "\n",
              "<svg xmlns=\"http://www.w3.org/2000/svg\" height=\"24px\"viewBox=\"0 0 24 24\"\n",
              "     width=\"24px\">\n",
              "    <g>\n",
              "        <path d=\"M19 3H5c-1.1 0-2 .9-2 2v14c0 1.1.9 2 2 2h14c1.1 0 2-.9 2-2V5c0-1.1-.9-2-2-2zM9 17H7v-7h2v7zm4 0h-2V7h2v10zm4 0h-2v-4h2v4z\"/>\n",
              "    </g>\n",
              "</svg>\n",
              "  </button>\n",
              "\n",
              "<style>\n",
              "  .colab-df-quickchart {\n",
              "      --bg-color: #E8F0FE;\n",
              "      --fill-color: #1967D2;\n",
              "      --hover-bg-color: #E2EBFA;\n",
              "      --hover-fill-color: #174EA6;\n",
              "      --disabled-fill-color: #AAA;\n",
              "      --disabled-bg-color: #DDD;\n",
              "  }\n",
              "\n",
              "  [theme=dark] .colab-df-quickchart {\n",
              "      --bg-color: #3B4455;\n",
              "      --fill-color: #D2E3FC;\n",
              "      --hover-bg-color: #434B5C;\n",
              "      --hover-fill-color: #FFFFFF;\n",
              "      --disabled-bg-color: #3B4455;\n",
              "      --disabled-fill-color: #666;\n",
              "  }\n",
              "\n",
              "  .colab-df-quickchart {\n",
              "    background-color: var(--bg-color);\n",
              "    border: none;\n",
              "    border-radius: 50%;\n",
              "    cursor: pointer;\n",
              "    display: none;\n",
              "    fill: var(--fill-color);\n",
              "    height: 32px;\n",
              "    padding: 0;\n",
              "    width: 32px;\n",
              "  }\n",
              "\n",
              "  .colab-df-quickchart:hover {\n",
              "    background-color: var(--hover-bg-color);\n",
              "    box-shadow: 0 1px 2px rgba(60, 64, 67, 0.3), 0 1px 3px 1px rgba(60, 64, 67, 0.15);\n",
              "    fill: var(--button-hover-fill-color);\n",
              "  }\n",
              "\n",
              "  .colab-df-quickchart-complete:disabled,\n",
              "  .colab-df-quickchart-complete:disabled:hover {\n",
              "    background-color: var(--disabled-bg-color);\n",
              "    fill: var(--disabled-fill-color);\n",
              "    box-shadow: none;\n",
              "  }\n",
              "\n",
              "  .colab-df-spinner {\n",
              "    border: 2px solid var(--fill-color);\n",
              "    border-color: transparent;\n",
              "    border-bottom-color: var(--fill-color);\n",
              "    animation:\n",
              "      spin 1s steps(1) infinite;\n",
              "  }\n",
              "\n",
              "  @keyframes spin {\n",
              "    0% {\n",
              "      border-color: transparent;\n",
              "      border-bottom-color: var(--fill-color);\n",
              "      border-left-color: var(--fill-color);\n",
              "    }\n",
              "    20% {\n",
              "      border-color: transparent;\n",
              "      border-left-color: var(--fill-color);\n",
              "      border-top-color: var(--fill-color);\n",
              "    }\n",
              "    30% {\n",
              "      border-color: transparent;\n",
              "      border-left-color: var(--fill-color);\n",
              "      border-top-color: var(--fill-color);\n",
              "      border-right-color: var(--fill-color);\n",
              "    }\n",
              "    40% {\n",
              "      border-color: transparent;\n",
              "      border-right-color: var(--fill-color);\n",
              "      border-top-color: var(--fill-color);\n",
              "    }\n",
              "    60% {\n",
              "      border-color: transparent;\n",
              "      border-right-color: var(--fill-color);\n",
              "    }\n",
              "    80% {\n",
              "      border-color: transparent;\n",
              "      border-right-color: var(--fill-color);\n",
              "      border-bottom-color: var(--fill-color);\n",
              "    }\n",
              "    90% {\n",
              "      border-color: transparent;\n",
              "      border-bottom-color: var(--fill-color);\n",
              "    }\n",
              "  }\n",
              "</style>\n",
              "\n",
              "  <script>\n",
              "    async function quickchart(key) {\n",
              "      const quickchartButtonEl =\n",
              "        document.querySelector('#' + key + ' button');\n",
              "      quickchartButtonEl.disabled = true;  // To prevent multiple clicks.\n",
              "      quickchartButtonEl.classList.add('colab-df-spinner');\n",
              "      try {\n",
              "        const charts = await google.colab.kernel.invokeFunction(\n",
              "            'suggestCharts', [key], {});\n",
              "      } catch (error) {\n",
              "        console.error('Error during call to suggestCharts:', error);\n",
              "      }\n",
              "      quickchartButtonEl.classList.remove('colab-df-spinner');\n",
              "      quickchartButtonEl.classList.add('colab-df-quickchart-complete');\n",
              "    }\n",
              "    (() => {\n",
              "      let quickchartButtonEl =\n",
              "        document.querySelector('#df-e3ec96b0-63fd-4539-9bcd-55a324b726ca button');\n",
              "      quickchartButtonEl.style.display =\n",
              "        google.colab.kernel.accessAllowed ? 'block' : 'none';\n",
              "    })();\n",
              "  </script>\n",
              "</div>\n",
              "\n",
              "    </div>\n",
              "  </div>\n"
            ],
            "application/vnd.google.colaboratory.intrinsic+json": {
              "type": "dataframe",
              "variable_name": "df"
            }
          },
          "metadata": {},
          "execution_count": 6
        }
      ]
    },
    {
      "cell_type": "markdown",
      "source": [
        "## a) Número de muestras, datos faltantes, atributos y tipos de variables de cada atributo"
      ],
      "metadata": {
        "id": "0LhZoXrCCJdh"
      }
    },
    {
      "cell_type": "code",
      "source": [
        "print(f'Número de muestras: {df.shape[0]}')\n",
        "print(f'Número de atributos: {df.shape[1]}')\n",
        "df.shape"
      ],
      "metadata": {
        "colab": {
          "base_uri": "https://localhost:8080/"
        },
        "id": "NEv0HFVTBe--",
        "outputId": "cf9d2fa5-f1cc-41b4-81bc-11a229b72b00"
      },
      "execution_count": 7,
      "outputs": [
        {
          "output_type": "stream",
          "name": "stdout",
          "text": [
            "Número de muestras: 245057\n",
            "Número de atributos: 4\n"
          ]
        },
        {
          "output_type": "execute_result",
          "data": {
            "text/plain": [
              "(245057, 4)"
            ]
          },
          "metadata": {},
          "execution_count": 7
        }
      ]
    },
    {
      "cell_type": "code",
      "source": [
        "print(\"Datos Faltantes por atributo\")\n",
        "df.isnull().sum()"
      ],
      "metadata": {
        "colab": {
          "base_uri": "https://localhost:8080/",
          "height": 0
        },
        "id": "94TlKhjazsIO",
        "outputId": "6aec92a6-8a08-41b8-a4dc-ceb09792a308"
      },
      "execution_count": 8,
      "outputs": [
        {
          "output_type": "stream",
          "name": "stdout",
          "text": [
            "Datos Faltantes por atributo\n"
          ]
        },
        {
          "output_type": "execute_result",
          "data": {
            "text/plain": [
              "B    0\n",
              "G    0\n",
              "R    0\n",
              "Y    0\n",
              "dtype: int64"
            ],
            "text/html": [
              "<div>\n",
              "<style scoped>\n",
              "    .dataframe tbody tr th:only-of-type {\n",
              "        vertical-align: middle;\n",
              "    }\n",
              "\n",
              "    .dataframe tbody tr th {\n",
              "        vertical-align: top;\n",
              "    }\n",
              "\n",
              "    .dataframe thead th {\n",
              "        text-align: right;\n",
              "    }\n",
              "</style>\n",
              "<table border=\"1\" class=\"dataframe\">\n",
              "  <thead>\n",
              "    <tr style=\"text-align: right;\">\n",
              "      <th></th>\n",
              "      <th>0</th>\n",
              "    </tr>\n",
              "  </thead>\n",
              "  <tbody>\n",
              "    <tr>\n",
              "      <th>B</th>\n",
              "      <td>0</td>\n",
              "    </tr>\n",
              "    <tr>\n",
              "      <th>G</th>\n",
              "      <td>0</td>\n",
              "    </tr>\n",
              "    <tr>\n",
              "      <th>R</th>\n",
              "      <td>0</td>\n",
              "    </tr>\n",
              "    <tr>\n",
              "      <th>Y</th>\n",
              "      <td>0</td>\n",
              "    </tr>\n",
              "  </tbody>\n",
              "</table>\n",
              "</div><br><label><b>dtype:</b> int64</label>"
            ]
          },
          "metadata": {},
          "execution_count": 8
        }
      ]
    },
    {
      "cell_type": "code",
      "source": [
        "df.info()"
      ],
      "metadata": {
        "colab": {
          "base_uri": "https://localhost:8080/"
        },
        "id": "V0jrc88bI_Gm",
        "outputId": "202dcfa8-9102-44ea-a14a-8c61249949f7"
      },
      "execution_count": 9,
      "outputs": [
        {
          "output_type": "stream",
          "name": "stdout",
          "text": [
            "<class 'pandas.core.frame.DataFrame'>\n",
            "RangeIndex: 245057 entries, 0 to 245056\n",
            "Data columns (total 4 columns):\n",
            " #   Column  Non-Null Count   Dtype\n",
            "---  ------  --------------   -----\n",
            " 0   B       245057 non-null  int64\n",
            " 1   G       245057 non-null  int64\n",
            " 2   R       245057 non-null  int64\n",
            " 3   Y       245057 non-null  int64\n",
            "dtypes: int64(4)\n",
            "memory usage: 7.5 MB\n"
          ]
        }
      ]
    },
    {
      "cell_type": "markdown",
      "source": [
        "## b) Medidas de centralidad y dispersión\n"
      ],
      "metadata": {
        "id": "6QROiO5PCW6v"
      }
    },
    {
      "cell_type": "code",
      "source": [
        "# Para atributos numéricos\n",
        "df.describe()"
      ],
      "metadata": {
        "colab": {
          "base_uri": "https://localhost:8080/",
          "height": 0
        },
        "id": "Lvk6_3y3CZUf",
        "outputId": "b0fbef66-40b3-4522-e8c1-9ab2021db8b7"
      },
      "execution_count": 10,
      "outputs": [
        {
          "output_type": "execute_result",
          "data": {
            "text/plain": [
              "                   B              G              R              Y\n",
              "count  245057.000000  245057.000000  245057.000000  245057.000000\n",
              "mean      125.065446     132.507327     123.177151       1.792461\n",
              "std        62.255653      59.941197      72.562165       0.405546\n",
              "min         0.000000       0.000000       0.000000       1.000000\n",
              "25%        68.000000      87.000000      70.000000       2.000000\n",
              "50%       139.000000     153.000000     128.000000       2.000000\n",
              "75%       176.000000     177.000000     164.000000       2.000000\n",
              "max       255.000000     255.000000     255.000000       2.000000"
            ],
            "text/html": [
              "\n",
              "  <div id=\"df-40c597f6-575c-4585-9003-6619d2feb9e8\" class=\"colab-df-container\">\n",
              "    <div>\n",
              "<style scoped>\n",
              "    .dataframe tbody tr th:only-of-type {\n",
              "        vertical-align: middle;\n",
              "    }\n",
              "\n",
              "    .dataframe tbody tr th {\n",
              "        vertical-align: top;\n",
              "    }\n",
              "\n",
              "    .dataframe thead th {\n",
              "        text-align: right;\n",
              "    }\n",
              "</style>\n",
              "<table border=\"1\" class=\"dataframe\">\n",
              "  <thead>\n",
              "    <tr style=\"text-align: right;\">\n",
              "      <th></th>\n",
              "      <th>B</th>\n",
              "      <th>G</th>\n",
              "      <th>R</th>\n",
              "      <th>Y</th>\n",
              "    </tr>\n",
              "  </thead>\n",
              "  <tbody>\n",
              "    <tr>\n",
              "      <th>count</th>\n",
              "      <td>245057.000000</td>\n",
              "      <td>245057.000000</td>\n",
              "      <td>245057.000000</td>\n",
              "      <td>245057.000000</td>\n",
              "    </tr>\n",
              "    <tr>\n",
              "      <th>mean</th>\n",
              "      <td>125.065446</td>\n",
              "      <td>132.507327</td>\n",
              "      <td>123.177151</td>\n",
              "      <td>1.792461</td>\n",
              "    </tr>\n",
              "    <tr>\n",
              "      <th>std</th>\n",
              "      <td>62.255653</td>\n",
              "      <td>59.941197</td>\n",
              "      <td>72.562165</td>\n",
              "      <td>0.405546</td>\n",
              "    </tr>\n",
              "    <tr>\n",
              "      <th>min</th>\n",
              "      <td>0.000000</td>\n",
              "      <td>0.000000</td>\n",
              "      <td>0.000000</td>\n",
              "      <td>1.000000</td>\n",
              "    </tr>\n",
              "    <tr>\n",
              "      <th>25%</th>\n",
              "      <td>68.000000</td>\n",
              "      <td>87.000000</td>\n",
              "      <td>70.000000</td>\n",
              "      <td>2.000000</td>\n",
              "    </tr>\n",
              "    <tr>\n",
              "      <th>50%</th>\n",
              "      <td>139.000000</td>\n",
              "      <td>153.000000</td>\n",
              "      <td>128.000000</td>\n",
              "      <td>2.000000</td>\n",
              "    </tr>\n",
              "    <tr>\n",
              "      <th>75%</th>\n",
              "      <td>176.000000</td>\n",
              "      <td>177.000000</td>\n",
              "      <td>164.000000</td>\n",
              "      <td>2.000000</td>\n",
              "    </tr>\n",
              "    <tr>\n",
              "      <th>max</th>\n",
              "      <td>255.000000</td>\n",
              "      <td>255.000000</td>\n",
              "      <td>255.000000</td>\n",
              "      <td>2.000000</td>\n",
              "    </tr>\n",
              "  </tbody>\n",
              "</table>\n",
              "</div>\n",
              "    <div class=\"colab-df-buttons\">\n",
              "\n",
              "  <div class=\"colab-df-container\">\n",
              "    <button class=\"colab-df-convert\" onclick=\"convertToInteractive('df-40c597f6-575c-4585-9003-6619d2feb9e8')\"\n",
              "            title=\"Convert this dataframe to an interactive table.\"\n",
              "            style=\"display:none;\">\n",
              "\n",
              "  <svg xmlns=\"http://www.w3.org/2000/svg\" height=\"24px\" viewBox=\"0 -960 960 960\">\n",
              "    <path d=\"M120-120v-720h720v720H120Zm60-500h600v-160H180v160Zm220 220h160v-160H400v160Zm0 220h160v-160H400v160ZM180-400h160v-160H180v160Zm440 0h160v-160H620v160ZM180-180h160v-160H180v160Zm440 0h160v-160H620v160Z\"/>\n",
              "  </svg>\n",
              "    </button>\n",
              "\n",
              "  <style>\n",
              "    .colab-df-container {\n",
              "      display:flex;\n",
              "      gap: 12px;\n",
              "    }\n",
              "\n",
              "    .colab-df-convert {\n",
              "      background-color: #E8F0FE;\n",
              "      border: none;\n",
              "      border-radius: 50%;\n",
              "      cursor: pointer;\n",
              "      display: none;\n",
              "      fill: #1967D2;\n",
              "      height: 32px;\n",
              "      padding: 0 0 0 0;\n",
              "      width: 32px;\n",
              "    }\n",
              "\n",
              "    .colab-df-convert:hover {\n",
              "      background-color: #E2EBFA;\n",
              "      box-shadow: 0px 1px 2px rgba(60, 64, 67, 0.3), 0px 1px 3px 1px rgba(60, 64, 67, 0.15);\n",
              "      fill: #174EA6;\n",
              "    }\n",
              "\n",
              "    .colab-df-buttons div {\n",
              "      margin-bottom: 4px;\n",
              "    }\n",
              "\n",
              "    [theme=dark] .colab-df-convert {\n",
              "      background-color: #3B4455;\n",
              "      fill: #D2E3FC;\n",
              "    }\n",
              "\n",
              "    [theme=dark] .colab-df-convert:hover {\n",
              "      background-color: #434B5C;\n",
              "      box-shadow: 0px 1px 3px 1px rgba(0, 0, 0, 0.15);\n",
              "      filter: drop-shadow(0px 1px 2px rgba(0, 0, 0, 0.3));\n",
              "      fill: #FFFFFF;\n",
              "    }\n",
              "  </style>\n",
              "\n",
              "    <script>\n",
              "      const buttonEl =\n",
              "        document.querySelector('#df-40c597f6-575c-4585-9003-6619d2feb9e8 button.colab-df-convert');\n",
              "      buttonEl.style.display =\n",
              "        google.colab.kernel.accessAllowed ? 'block' : 'none';\n",
              "\n",
              "      async function convertToInteractive(key) {\n",
              "        const element = document.querySelector('#df-40c597f6-575c-4585-9003-6619d2feb9e8');\n",
              "        const dataTable =\n",
              "          await google.colab.kernel.invokeFunction('convertToInteractive',\n",
              "                                                    [key], {});\n",
              "        if (!dataTable) return;\n",
              "\n",
              "        const docLinkHtml = 'Like what you see? Visit the ' +\n",
              "          '<a target=\"_blank\" href=https://colab.research.google.com/notebooks/data_table.ipynb>data table notebook</a>'\n",
              "          + ' to learn more about interactive tables.';\n",
              "        element.innerHTML = '';\n",
              "        dataTable['output_type'] = 'display_data';\n",
              "        await google.colab.output.renderOutput(dataTable, element);\n",
              "        const docLink = document.createElement('div');\n",
              "        docLink.innerHTML = docLinkHtml;\n",
              "        element.appendChild(docLink);\n",
              "      }\n",
              "    </script>\n",
              "  </div>\n",
              "\n",
              "\n",
              "<div id=\"df-10c666d5-b6f8-4a04-acee-6a8b08193042\">\n",
              "  <button class=\"colab-df-quickchart\" onclick=\"quickchart('df-10c666d5-b6f8-4a04-acee-6a8b08193042')\"\n",
              "            title=\"Suggest charts\"\n",
              "            style=\"display:none;\">\n",
              "\n",
              "<svg xmlns=\"http://www.w3.org/2000/svg\" height=\"24px\"viewBox=\"0 0 24 24\"\n",
              "     width=\"24px\">\n",
              "    <g>\n",
              "        <path d=\"M19 3H5c-1.1 0-2 .9-2 2v14c0 1.1.9 2 2 2h14c1.1 0 2-.9 2-2V5c0-1.1-.9-2-2-2zM9 17H7v-7h2v7zm4 0h-2V7h2v10zm4 0h-2v-4h2v4z\"/>\n",
              "    </g>\n",
              "</svg>\n",
              "  </button>\n",
              "\n",
              "<style>\n",
              "  .colab-df-quickchart {\n",
              "      --bg-color: #E8F0FE;\n",
              "      --fill-color: #1967D2;\n",
              "      --hover-bg-color: #E2EBFA;\n",
              "      --hover-fill-color: #174EA6;\n",
              "      --disabled-fill-color: #AAA;\n",
              "      --disabled-bg-color: #DDD;\n",
              "  }\n",
              "\n",
              "  [theme=dark] .colab-df-quickchart {\n",
              "      --bg-color: #3B4455;\n",
              "      --fill-color: #D2E3FC;\n",
              "      --hover-bg-color: #434B5C;\n",
              "      --hover-fill-color: #FFFFFF;\n",
              "      --disabled-bg-color: #3B4455;\n",
              "      --disabled-fill-color: #666;\n",
              "  }\n",
              "\n",
              "  .colab-df-quickchart {\n",
              "    background-color: var(--bg-color);\n",
              "    border: none;\n",
              "    border-radius: 50%;\n",
              "    cursor: pointer;\n",
              "    display: none;\n",
              "    fill: var(--fill-color);\n",
              "    height: 32px;\n",
              "    padding: 0;\n",
              "    width: 32px;\n",
              "  }\n",
              "\n",
              "  .colab-df-quickchart:hover {\n",
              "    background-color: var(--hover-bg-color);\n",
              "    box-shadow: 0 1px 2px rgba(60, 64, 67, 0.3), 0 1px 3px 1px rgba(60, 64, 67, 0.15);\n",
              "    fill: var(--button-hover-fill-color);\n",
              "  }\n",
              "\n",
              "  .colab-df-quickchart-complete:disabled,\n",
              "  .colab-df-quickchart-complete:disabled:hover {\n",
              "    background-color: var(--disabled-bg-color);\n",
              "    fill: var(--disabled-fill-color);\n",
              "    box-shadow: none;\n",
              "  }\n",
              "\n",
              "  .colab-df-spinner {\n",
              "    border: 2px solid var(--fill-color);\n",
              "    border-color: transparent;\n",
              "    border-bottom-color: var(--fill-color);\n",
              "    animation:\n",
              "      spin 1s steps(1) infinite;\n",
              "  }\n",
              "\n",
              "  @keyframes spin {\n",
              "    0% {\n",
              "      border-color: transparent;\n",
              "      border-bottom-color: var(--fill-color);\n",
              "      border-left-color: var(--fill-color);\n",
              "    }\n",
              "    20% {\n",
              "      border-color: transparent;\n",
              "      border-left-color: var(--fill-color);\n",
              "      border-top-color: var(--fill-color);\n",
              "    }\n",
              "    30% {\n",
              "      border-color: transparent;\n",
              "      border-left-color: var(--fill-color);\n",
              "      border-top-color: var(--fill-color);\n",
              "      border-right-color: var(--fill-color);\n",
              "    }\n",
              "    40% {\n",
              "      border-color: transparent;\n",
              "      border-right-color: var(--fill-color);\n",
              "      border-top-color: var(--fill-color);\n",
              "    }\n",
              "    60% {\n",
              "      border-color: transparent;\n",
              "      border-right-color: var(--fill-color);\n",
              "    }\n",
              "    80% {\n",
              "      border-color: transparent;\n",
              "      border-right-color: var(--fill-color);\n",
              "      border-bottom-color: var(--fill-color);\n",
              "    }\n",
              "    90% {\n",
              "      border-color: transparent;\n",
              "      border-bottom-color: var(--fill-color);\n",
              "    }\n",
              "  }\n",
              "</style>\n",
              "\n",
              "  <script>\n",
              "    async function quickchart(key) {\n",
              "      const quickchartButtonEl =\n",
              "        document.querySelector('#' + key + ' button');\n",
              "      quickchartButtonEl.disabled = true;  // To prevent multiple clicks.\n",
              "      quickchartButtonEl.classList.add('colab-df-spinner');\n",
              "      try {\n",
              "        const charts = await google.colab.kernel.invokeFunction(\n",
              "            'suggestCharts', [key], {});\n",
              "      } catch (error) {\n",
              "        console.error('Error during call to suggestCharts:', error);\n",
              "      }\n",
              "      quickchartButtonEl.classList.remove('colab-df-spinner');\n",
              "      quickchartButtonEl.classList.add('colab-df-quickchart-complete');\n",
              "    }\n",
              "    (() => {\n",
              "      let quickchartButtonEl =\n",
              "        document.querySelector('#df-10c666d5-b6f8-4a04-acee-6a8b08193042 button');\n",
              "      quickchartButtonEl.style.display =\n",
              "        google.colab.kernel.accessAllowed ? 'block' : 'none';\n",
              "    })();\n",
              "  </script>\n",
              "</div>\n",
              "\n",
              "    </div>\n",
              "  </div>\n"
            ],
            "application/vnd.google.colaboratory.intrinsic+json": {
              "type": "dataframe",
              "summary": "{\n  \"name\": \"df\",\n  \"rows\": 8,\n  \"fields\": [\n    {\n      \"column\": \"B\",\n      \"properties\": {\n        \"dtype\": \"number\",\n        \"std\": 86599.08299870677,\n        \"min\": 0.0,\n        \"max\": 245057.0,\n        \"num_unique_values\": 8,\n        \"samples\": [\n          125.06544599827795,\n          139.0,\n          245057.0\n        ],\n        \"semantic_type\": \"\",\n        \"description\": \"\"\n      }\n    },\n    {\n      \"column\": \"G\",\n      \"properties\": {\n        \"dtype\": \"number\",\n        \"std\": 86597.10641538163,\n        \"min\": 0.0,\n        \"max\": 245057.0,\n        \"num_unique_values\": 8,\n        \"samples\": [\n          132.5073268668106,\n          153.0,\n          245057.0\n        ],\n        \"semantic_type\": \"\",\n        \"description\": \"\"\n      }\n    },\n    {\n      \"column\": \"R\",\n      \"properties\": {\n        \"dtype\": \"number\",\n        \"std\": 86599.71610230059,\n        \"min\": 0.0,\n        \"max\": 245057.0,\n        \"num_unique_values\": 8,\n        \"samples\": [\n          123.17715062210017,\n          128.0,\n          245057.0\n        ],\n        \"semantic_type\": \"\",\n        \"description\": \"\"\n      }\n    },\n    {\n      \"column\": \"Y\",\n      \"properties\": {\n        \"dtype\": \"number\",\n        \"std\": 86640.16765591061,\n        \"min\": 0.40554594039668695,\n        \"max\": 245057.0,\n        \"num_unique_values\": 5,\n        \"samples\": [\n          1.7924605295910747,\n          2.0,\n          0.40554594039668695\n        ],\n        \"semantic_type\": \"\",\n        \"description\": \"\"\n      }\n    }\n  ]\n}"
            }
          },
          "metadata": {},
          "execution_count": 10
        }
      ]
    },
    {
      "cell_type": "markdown",
      "source": [
        "## c) Visualizaciones"
      ],
      "metadata": {
        "id": "iUfo8TLLJjJD"
      }
    },
    {
      "cell_type": "markdown",
      "source": [
        "### Boxplots (diagramas de cajas y bigotes) para cada variable numérica"
      ],
      "metadata": {
        "id": "ZI90bHo9KAyA"
      }
    },
    {
      "cell_type": "code",
      "source": [
        "plt.figure(figsize=(15,4))\n",
        "for i, col in enumerate(['B', 'G', 'R', 'Y']):\n",
        "    plt.subplot(1, 4, i + 1)\n",
        "\n",
        "    bp = sns.boxplot(y=df[col], medianprops={'color': 'darkgreen'},\n",
        "                     patch_artist=True,\n",
        "                     boxprops={'facecolor': 'lightskyblue'})\n",
        "\n",
        "    median_val = df[col].median()\n",
        "    plt.text(0.1, median_val, f'{median_val:.2f}',\n",
        "             fontsize=12, color='red')\n",
        "\n",
        "    plt.title(f'Boxplot de {col}')\n",
        "plt.tight_layout()\n",
        "plt.show()"
      ],
      "metadata": {
        "colab": {
          "base_uri": "https://localhost:8080/",
          "height": 0
        },
        "id": "mWfINHvmJe1J",
        "outputId": "2e2c4eea-7db9-4c89-afd1-58576f39040c"
      },
      "execution_count": 11,
      "outputs": [
        {
          "output_type": "display_data",
          "data": {
            "text/plain": [
              "<Figure size 1500x400 with 4 Axes>"
            ],
            "image/png": "[encoded data removed]"
          },
          "metadata": {}
        }
      ]
    },
    {
      "cell_type": "markdown",
      "source": [
        "### Análisis de los Diagramas de Caja y Datos Estadísticos\n",
        "\n",
        "#### Interpretación General\n",
        "\n",
        "* **Variables B, G y R:**\n",
        "    * **Distribución similar:** Presentan distribuciones relativamente simétricas, indicando una variabilidad similar en los datos.\n",
        "    * **Rangos amplios:** Sugieren una amplia gama de valores.\n",
        "    * **Medianas cercanas**: Indican que los valores centrales son comparables.\n",
        "* **Variable Y:**\n",
        "    * **Distribución sesgada**: Mayoría de los valores concentrados en 2.0.\n",
        "    * **Rango estrecho:** Poca variabilidad.\n",
        "\n",
        "#### Posibles Implicaciones\n",
        "\n",
        "Las características observadas pueden tener diferentes implicaciones dependiendo del contexto:\n",
        "\n",
        "* **Variables B, G y R:** Podrían representar canales de color en imágenes, sugiriendo una distribución equilibrada de colores.\n",
        "* **Variable Y:** Podría representar una característica binaria (si un píxel pertenece a una región de interés)."
      ],
      "metadata": {
        "id": "MDoA-jWPVQ7Z"
      }
    },
    {
      "cell_type": "markdown",
      "source": [
        "### Histograma para cada atributo numérico"
      ],
      "metadata": {
        "id": "9CNBRHx5OGbB"
      }
    },
    {
      "cell_type": "code",
      "source": [
        "\n",
        "def graficarHistogramaDistNormal(column, title, subplot):\n",
        "    plt.subplot(subplot)\n",
        "    plt.hist(df[column], bins=20, density=True, alpha=0.6, label='Histograma')\n",
        "\n",
        "    # Calcular la media y desviación estándar\n",
        "    mu, std = norm.fit(df[column])\n",
        "\n",
        "    # Generar valores para la distribución normal teórica\n",
        "    xmin, xmax = plt.xlim()\n",
        "    x = np.linspace(xmin, xmax, 100)\n",
        "    y = norm.pdf(x, mu, std)\n",
        "\n",
        "    plt.plot(x, y, 'r-', label='Distribución Normal')\n",
        "\n",
        "    plt.xlabel('Valores')\n",
        "    plt.ylabel('Densidad')\n",
        "    plt.title(title)\n",
        "    plt.legend()\n",
        "    plt.grid(True)\n",
        "\n",
        "# Crear una figura de 2x2 subplots\n",
        "plt.figure(figsize=(12, 8))\n",
        "\n",
        "# Llamar a la función para cada columna en un subplot diferente\n",
        "graficarHistogramaDistNormal('B', 'Histograma de B', 221)  # Fila 2, columna 1\n",
        "graficarHistogramaDistNormal('G', 'Histograma de G', 222)  # Fila 2, columna 2\n",
        "graficarHistogramaDistNormal('R', 'Histograma de R', 223)  # Fila 2, columna 3\n",
        "graficarHistogramaDistNormal('Y', 'Histograma de Y', 224)  # Fila 2, columna 4\n",
        "\n",
        "plt.tight_layout()\n",
        "plt.show()"
      ],
      "metadata": {
        "colab": {
          "base_uri": "https://localhost:8080/",
          "height": 0
        },
        "id": "kanTrSti3qOr",
        "outputId": "6b22cc69-9f37-4660-89b5-33fccbbc557e"
      },
      "execution_count": 12,
      "outputs": [
        {
          "output_type": "display_data",
          "data": {
            "text/plain": [
              "<Figure size 1200x800 with 4 Axes>"
            ],
            "image/png": "[encoded data removed]"
          },
          "metadata": {}
        }
      ]
    },
    {
      "cell_type": "markdown",
      "source": [
        "Aunque al aplicar una regresión logística no es indispensable normalizar o escalar las características, es recomendable examinar sus distribuciones. Al analizar los gráficos resultantes, observamos que las características presentan una distribución aproximadamente normal, lo cual, aunque no es obligatorio para la regresión logística, facilita el manejo de los datos y es un aspecto a considerar al interpretar los resultados.\n",
        "\n",
        "### Observaciones:\n",
        "\n",
        "- **B, G y R:** Presentan una distribución aproximadamente normal, con una curva de densidad que se ajusta razonablemente bien a los datos, sugiriendo una dispersión aleatoria alrededor de un valor central.\n",
        "\n",
        "- **Y:** Muestra una fuerte asimetría a la izquierda, con la mayoría de los valores concentrados en el extremo superior, indicando una distribución sesgada donde la distribución normal no es un buen ajuste.\n",
        "\n",
        "Sin embargo, como mencionamos previamente, ***Y*** podría representar una característica binaria y realmente si lo es, basándonos en la documentación del repositorio del data set podemos apreciar la siguiente tabla:\n",
        "\n",
        "![Variables_Table.png](data:image/png;base64,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)\n",
        "\n",
        "Basándonos en la ***Tabla de Variables*** anterior, podemos ver que nuestra variable de destino (***Y***) es binaria, pero que está compuesta de 1 y 2.\n",
        "\n",
        "La mejor práctica es que nuestra variable binaria se represente como 0 y 1, por lo que cambiaremos nuestra variable ***Y*** a 0 y 1."
      ],
      "metadata": {
        "id": "FDnv2-Rv6EHE"
      }
    },
    {
      "cell_type": "markdown",
      "source": [
        "# 4. Preparación de los datos"
      ],
      "metadata": {
        "id": "QB5a2FvvdoTx"
      }
    },
    {
      "cell_type": "markdown",
      "source": [
        "Haremos una copia del dataset para ver la correlación entre las variables y ver si debemos hacer una eliminación de Variables Altamente Correlacionadas. Para esto, definiremos un umbral de ***0.9***"
      ],
      "metadata": {
        "id": "14mA_6jndtn_"
      }
    },
    {
      "cell_type": "code",
      "source": [
        "df_Copia = df.copy()"
      ],
      "metadata": {
        "id": "6HKlvUwZXD0k"
      },
      "execution_count": 13,
      "outputs": []
    },
    {
      "cell_type": "code",
      "source": [
        "# Calcular la matriz de correlación para las variables de entrada\n",
        "corr_matrix = df_Copia.corr().abs()\n",
        "print(\"Matriz de correlación (valores absolutos):\")\n",
        "print(corr_matrix)\n",
        "\n",
        "# Definir el umbral para alta correlación\n",
        "umbral = 0.9\n",
        "cols_a_eliminar = []\n",
        "\n",
        "# Evaluar pares de variables y determinar cuáles eliminar\n",
        "for col in corr_matrix.columns:\n",
        "    for row in corr_matrix.index:\n",
        "        if row != col and corr_matrix.loc[row, col] > umbral:\n",
        "            media_col = corr_matrix[col].mean()\n",
        "            media_row = corr_matrix[row].mean()\n",
        "            if media_col > media_row and col not in cols_a_eliminar:\n",
        "                cols_a_eliminar.append(col)\n",
        "            elif row not in cols_a_eliminar:\n",
        "                cols_a_eliminar.append(row)\n",
        "\n",
        "print(\"🛑 Columnas a eliminar por alta correlación:\", cols_a_eliminar)\n"
      ],
      "metadata": {
        "colab": {
          "base_uri": "https://localhost:8080/"
        },
        "id": "cHC9w7jnXG7g",
        "outputId": "78165a81-c9b6-439a-da5f-bc3ad7402f0e"
      },
      "execution_count": 14,
      "outputs": [
        {
          "output_type": "stream",
          "name": "stdout",
          "text": [
            "Matriz de correlación (valores absolutos):\n",
            "          B         G         R         Y\n",
            "B  1.000000  0.855250  0.496376  0.092030\n",
            "G  0.855250  1.000000  0.660098  0.120327\n",
            "R  0.496376  0.660098  1.000000  0.569958\n",
            "Y  0.092030  0.120327  0.569958  1.000000\n",
            "🛑 Columnas a eliminar por alta correlación: []\n"
          ]
        }
      ]
    },
    {
      "cell_type": "code",
      "source": [
        "plt.figure(figsize=(8, 6))\n",
        "sns.heatmap(corr_matrix, annot=True, cmap='coolwarm')\n",
        "plt.title('Matriz de Correlación')\n",
        "plt.show()"
      ],
      "metadata": {
        "colab": {
          "base_uri": "https://localhost:8080/",
          "height": 545
        },
        "id": "fEQUL9gfXpVV",
        "outputId": "6220e709-06e6-4f00-f3f9-8858a7a37d5b"
      },
      "execution_count": 15,
      "outputs": [
        {
          "output_type": "display_data",
          "data": {
            "text/plain": [
              "<Figure size 800x600 with 2 Axes>"
            ],
            "image/png": "[encoded data removed]"
          },
          "metadata": {}
        }
      ]
    },
    {
      "cell_type": "markdown",
      "source": [
        "Como ninguna variable superó el umbral, no se eliminó ninguna."
      ],
      "metadata": {
        "id": "ul3r_m0KeOvG"
      }
    },
    {
      "cell_type": "markdown",
      "source": [
        "## a) Aplicación de PCA"
      ],
      "metadata": {
        "id": "G2v8FI8eYu_e"
      }
    },
    {
      "cell_type": "markdown",
      "source": [
        "Se aplica PCA al conjunto obtenido (después de eliminar variables correlacionadas, si se eliminó alguna) para reducir la dimensionalidad."
      ],
      "metadata": {
        "id": "1k3MiS_OeXhV"
      }
    },
    {
      "cell_type": "code",
      "source": [
        "from sklearn.decomposition import PCA\n",
        "from sklearn.preprocessing import StandardScaler\n",
        "\n",
        "# Seleccionar las features restantes (suponiendo que 'y' es la variable objetivo)\n",
        "features = [col for col in df_Copia.columns if col != 'Y']\n",
        "X_no_corr = df_Copia[features].values\n",
        "\n",
        "# Estandarizar las variables antes de aplicar PCA\n",
        "scaler_pca = StandardScaler()\n",
        "X_no_corr_scaled = scaler_pca.fit_transform(X_no_corr)\n",
        "\n",
        "# Aplicar PCA para reducir a 2 componentes\n",
        "pca = PCA(n_components=2)\n",
        "X_pca = pca.fit_transform(X_no_corr_scaled)\n",
        "\n",
        "# Crear un nuevo dataframe con las componentes principales y la variable objetivo\n",
        "df_pca = pd.DataFrame(X_pca, columns=['PC1', 'PC2'])\n",
        "df_pca['Y'] = df_Copia['Y'].values\n",
        "print(\"Dimensiones con PCA:\", df_pca.shape)\n"
      ],
      "metadata": {
        "colab": {
          "base_uri": "https://localhost:8080/"
        },
        "id": "kAAcCSZhYyW-",
        "outputId": "f8b9f322-ff14-4242-ae8c-2317cf0b694b"
      },
      "execution_count": 16,
      "outputs": [
        {
          "output_type": "stream",
          "name": "stdout",
          "text": [
            "Dimensiones con PCA: (245057, 3)\n"
          ]
        }
      ]
    },
    {
      "cell_type": "code",
      "source": [
        "df.shape"
      ],
      "metadata": {
        "colab": {
          "base_uri": "https://localhost:8080/"
        },
        "id": "Fvs8edH0Y8LW",
        "outputId": "451b079b-8048-4930-e280-e129814e660f"
      },
      "execution_count": 17,
      "outputs": [
        {
          "output_type": "execute_result",
          "data": {
            "text/plain": [
              "(245057, 4)"
            ]
          },
          "metadata": {},
          "execution_count": 17
        }
      ]
    },
    {
      "cell_type": "markdown",
      "source": [
        "## b) Entrenamiento y Evaluación del Modelo de Regresión Logística"
      ],
      "metadata": {
        "id": "p_U4CC6NZDXx"
      }
    },
    {
      "cell_type": "code",
      "source": [
        "from sklearn.model_selection import train_test_split\n",
        "from sklearn.linear_model import LogisticRegression\n",
        "from sklearn.metrics import accuracy_score\n",
        "\n",
        "def entrenar_evaluar(df_model, features, etiqueta, nombre='Conjunto'):\n",
        "    # Separar las características (X) y la variable objetivo (y)\n",
        "    X = df_model[features].values\n",
        "    y = df_model[etiqueta].values\n",
        "\n",
        "    # Dividir el dataset en entrenamiento y prueba\n",
        "    X_train, X_test, y_train, y_test = train_test_split(X, y, test_size=0.3, random_state=42)\n",
        "\n",
        "    # Entrenar el modelo de regresión logística\n",
        "    modelo = LogisticRegression(max_iter=1000)\n",
        "    modelo.fit(X_train, y_train)\n",
        "\n",
        "    # Predecir y calcular el accuracy\n",
        "    y_pred = modelo.predict(X_test)\n",
        "    acc = accuracy_score(y_test, y_pred)\n",
        "    print(f\"{nombre} - Accuracy: {acc:.4f}\")\n",
        "    return acc\n",
        "\n",
        "# Diccionario para almacenar resultados\n",
        "resultados = {}\n",
        "\n",
        "# A) Conjunto Original\n",
        "resultados['Original'] = entrenar_evaluar(df, ['B', 'G', 'R'], 'Y', 'Original')\n",
        "\n",
        "# B) Conjunto sin datos faltantes (idéntico al original, pues no hay faltantes)\n",
        "resultados['Sin faltantes'] = entrenar_evaluar(df_Copia, ['B', 'G', 'R'], 'Y', 'Sin faltantes')\n",
        "\n",
        "# C) Conjunto sin variables correlacionadas\n",
        "cols_features = [col for col in df_Copia.columns if col != 'Y']\n",
        "resultados['Sin correlacionados'] = entrenar_evaluar(df_Copia, cols_features, 'Y', 'Sin correlacionados')\n",
        "\n",
        "# D) Conjunto con PCA\n",
        "resultados['PCA'] = entrenar_evaluar(df_pca, ['PC1', 'PC2'], 'Y', 'PCA')\n"
      ],
      "metadata": {
        "colab": {
          "base_uri": "https://localhost:8080/"
        },
        "id": "uv0Si-IsZC2T",
        "outputId": "f08413ff-2530-41af-fa09-716318471ff2"
      },
      "execution_count": 18,
      "outputs": [
        {
          "output_type": "stream",
          "name": "stdout",
          "text": [
            "Original - Accuracy: 0.9190\n",
            "Sin faltantes - Accuracy: 0.9190\n",
            "Sin correlacionados - Accuracy: 0.9190\n",
            "PCA - Accuracy: 0.9133\n"
          ]
        }
      ]
    },
    {
      "cell_type": "code",
      "source": [
        "tabla_resultados = pd.DataFrame(list(resultados.items()), columns=['Conjunto', 'Accuracy']).round(4)\n",
        "print(tabla_resultados)"
      ],
      "metadata": {
        "colab": {
          "base_uri": "https://localhost:8080/"
        },
        "id": "waLsJM7vZr6S",
        "outputId": "7fd28bf9-15cb-4af1-a82a-0f6ff8d42de3"
      },
      "execution_count": 51,
      "outputs": [
        {
          "output_type": "stream",
          "name": "stdout",
          "text": [
            "              Conjunto  Accuracy\n",
            "0             Original    0.9190\n",
            "1        Sin faltantes    0.9190\n",
            "2  Sin correlacionados    0.9190\n",
            "3                  PCA    0.9133\n"
          ]
        }
      ]
    },
    {
      "cell_type": "markdown",
      "source": [
        "# 5. Preparación de los datos transformando a ***Y*** en binario"
      ],
      "metadata": {
        "id": "wAsmbIF08t4l"
      }
    },
    {
      "cell_type": "markdown",
      "source": [
        " ## a) Transformación Binaria"
      ],
      "metadata": {
        "id": "2sVVkAjm9BAj"
      }
    },
    {
      "cell_type": "code",
      "source": [
        "df['Y']"
      ],
      "metadata": {
        "colab": {
          "base_uri": "https://localhost:8080/",
          "height": 0
        },
        "id": "G4C6uhU58yy4",
        "outputId": "40cde26e-0803-4215-e603-9ec3e3ad95ff"
      },
      "execution_count": 20,
      "outputs": [
        {
          "output_type": "execute_result",
          "data": {
            "text/plain": [
              "0         1\n",
              "1         1\n",
              "2         1\n",
              "3         1\n",
              "4         1\n",
              "         ..\n",
              "245052    2\n",
              "245053    2\n",
              "245054    2\n",
              "245055    2\n",
              "245056    2\n",
              "Name: Y, Length: 245057, dtype: int64"
            ],
            "text/html": [
              "<div>\n",
              "<style scoped>\n",
              "    .dataframe tbody tr th:only-of-type {\n",
              "        vertical-align: middle;\n",
              "    }\n",
              "\n",
              "    .dataframe tbody tr th {\n",
              "        vertical-align: top;\n",
              "    }\n",
              "\n",
              "    .dataframe thead th {\n",
              "        text-align: right;\n",
              "    }\n",
              "</style>\n",
              "<table border=\"1\" class=\"dataframe\">\n",
              "  <thead>\n",
              "    <tr style=\"text-align: right;\">\n",
              "      <th></th>\n",
              "      <th>Y</th>\n",
              "    </tr>\n",
              "  </thead>\n",
              "  <tbody>\n",
              "    <tr>\n",
              "      <th>0</th>\n",
              "      <td>1</td>\n",
              "    </tr>\n",
              "    <tr>\n",
              "      <th>1</th>\n",
              "      <td>1</td>\n",
              "    </tr>\n",
              "    <tr>\n",
              "      <th>2</th>\n",
              "      <td>1</td>\n",
              "    </tr>\n",
              "    <tr>\n",
              "      <th>3</th>\n",
              "      <td>1</td>\n",
              "    </tr>\n",
              "    <tr>\n",
              "      <th>4</th>\n",
              "      <td>1</td>\n",
              "    </tr>\n",
              "    <tr>\n",
              "      <th>...</th>\n",
              "      <td>...</td>\n",
              "    </tr>\n",
              "    <tr>\n",
              "      <th>245052</th>\n",
              "      <td>2</td>\n",
              "    </tr>\n",
              "    <tr>\n",
              "      <th>245053</th>\n",
              "      <td>2</td>\n",
              "    </tr>\n",
              "    <tr>\n",
              "      <th>245054</th>\n",
              "      <td>2</td>\n",
              "    </tr>\n",
              "    <tr>\n",
              "      <th>245055</th>\n",
              "      <td>2</td>\n",
              "    </tr>\n",
              "    <tr>\n",
              "      <th>245056</th>\n",
              "      <td>2</td>\n",
              "    </tr>\n",
              "  </tbody>\n",
              "</table>\n",
              "<p>245057 rows × 1 columns</p>\n",
              "</div><br><label><b>dtype:</b> int64</label>"
            ]
          },
          "metadata": {},
          "execution_count": 20
        }
      ]
    },
    {
      "cell_type": "code",
      "source": [
        "df['Y'][df['Y']==1]=0\n",
        "df['Y'][df['Y']==2]=1\n",
        "\n",
        "# Verificamos que el cambio se realizó correctamente\n",
        "df['Y']"
      ],
      "metadata": {
        "colab": {
          "base_uri": "https://localhost:8080/",
          "height": 0
        },
        "id": "MG0sbaUt8vmi",
        "outputId": "2a61bfa3-6505-4e23-bcc0-0b70496e12e1"
      },
      "execution_count": 21,
      "outputs": [
        {
          "output_type": "execute_result",
          "data": {
            "text/plain": [
              "0         0\n",
              "1         0\n",
              "2         0\n",
              "3         0\n",
              "4         0\n",
              "         ..\n",
              "245052    1\n",
              "245053    1\n",
              "245054    1\n",
              "245055    1\n",
              "245056    1\n",
              "Name: Y, Length: 245057, dtype: int64"
            ],
            "text/html": [
              "<div>\n",
              "<style scoped>\n",
              "    .dataframe tbody tr th:only-of-type {\n",
              "        vertical-align: middle;\n",
              "    }\n",
              "\n",
              "    .dataframe tbody tr th {\n",
              "        vertical-align: top;\n",
              "    }\n",
              "\n",
              "    .dataframe thead th {\n",
              "        text-align: right;\n",
              "    }\n",
              "</style>\n",
              "<table border=\"1\" class=\"dataframe\">\n",
              "  <thead>\n",
              "    <tr style=\"text-align: right;\">\n",
              "      <th></th>\n",
              "      <th>Y</th>\n",
              "    </tr>\n",
              "  </thead>\n",
              "  <tbody>\n",
              "    <tr>\n",
              "      <th>0</th>\n",
              "      <td>0</td>\n",
              "    </tr>\n",
              "    <tr>\n",
              "      <th>1</th>\n",
              "      <td>0</td>\n",
              "    </tr>\n",
              "    <tr>\n",
              "      <th>2</th>\n",
              "      <td>0</td>\n",
              "    </tr>\n",
              "    <tr>\n",
              "      <th>3</th>\n",
              "      <td>0</td>\n",
              "    </tr>\n",
              "    <tr>\n",
              "      <th>4</th>\n",
              "      <td>0</td>\n",
              "    </tr>\n",
              "    <tr>\n",
              "      <th>...</th>\n",
              "      <td>...</td>\n",
              "    </tr>\n",
              "    <tr>\n",
              "      <th>245052</th>\n",
              "      <td>1</td>\n",
              "    </tr>\n",
              "    <tr>\n",
              "      <th>245053</th>\n",
              "      <td>1</td>\n",
              "    </tr>\n",
              "    <tr>\n",
              "      <th>245054</th>\n",
              "      <td>1</td>\n",
              "    </tr>\n",
              "    <tr>\n",
              "      <th>245055</th>\n",
              "      <td>1</td>\n",
              "    </tr>\n",
              "    <tr>\n",
              "      <th>245056</th>\n",
              "      <td>1</td>\n",
              "    </tr>\n",
              "  </tbody>\n",
              "</table>\n",
              "<p>245057 rows × 1 columns</p>\n",
              "</div><br><label><b>dtype:</b> int64</label>"
            ]
          },
          "metadata": {},
          "execution_count": 21
        }
      ]
    },
    {
      "cell_type": "markdown",
      "source": [
        "## b) Balanceo del modelo\n",
        "\n",
        "Miraremos la proporción de los datos y la distribución de la variable objetivo **Y**"
      ],
      "metadata": {
        "id": "EiQ4R10B-El9"
      }
    },
    {
      "cell_type": "code",
      "source": [
        "# Distribución de la variable objetivo\n",
        "class_distribution = df['Y'].value_counts()\n",
        "print(\"Distribución de clases en la variable objetivo:\")\n",
        "print(class_distribution)\n",
        "\n",
        "class_percentage = df['Y'].value_counts(normalize=True) * 100\n",
        "print(\"\\nPorcentaje de clases en la variable objetivo:\")\n",
        "for index, value in class_percentage.items():\n",
        "    print(f\"{index}: {value:.2f} %\")"
      ],
      "metadata": {
        "colab": {
          "base_uri": "https://localhost:8080/"
        },
        "id": "pix7ErwN-Gvo",
        "outputId": "96fdf66d-e282-47ad-b4d2-570156f75c7b"
      },
      "execution_count": 22,
      "outputs": [
        {
          "output_type": "stream",
          "name": "stdout",
          "text": [
            "Distribución de clases en la variable objetivo:\n",
            "Y\n",
            "1    194198\n",
            "0     50859\n",
            "Name: count, dtype: int64\n",
            "\n",
            "Porcentaje de clases en la variable objetivo:\n",
            "1: 79.25 %\n",
            "0: 20.75 %\n"
          ]
        }
      ]
    },
    {
      "cell_type": "markdown",
      "source": [
        "## c) Creación del Modelo"
      ],
      "metadata": {
        "id": "QDtfrejGHiFf"
      }
    },
    {
      "cell_type": "markdown",
      "source": [
        "### Extraer features"
      ],
      "metadata": {
        "id": "0jILCQ-fH28Z"
      }
    },
    {
      "cell_type": "code",
      "source": [
        "X = df[['B', 'G', 'R']].values\n",
        "y = df['Y'].values\n",
        "\n",
        "# Estandarizar las variables para mejorar la detección de outliers\n",
        "scaler = StandardScaler()\n",
        "X_scaled = scaler.fit_transform(X)\n",
        "\n",
        "# Usar KNN de pyod para detectar outliers\n",
        "knn = KNN()  # Puedes ajustar los parámetros según el comportamiento de tus datos\n",
        "knn.fit(X_scaled)\n",
        "# En pyod, los outliers se etiquetan como 1 y los inliers como 0\n",
        "labels = knn.labels_\n"
      ],
      "metadata": {
        "id": "BxgdkKFjH1uk"
      },
      "execution_count": 23,
      "outputs": []
    },
    {
      "cell_type": "code",
      "source": [
        "# Datos de entrenamiento y prueba:\n",
        "\n",
        "X_train, X_test, y_train, y_test = train_test_split(X, y, test_size=0.3, random_state=57)\n",
        "\n",
        "# Modelo de regresión logística\n",
        "model = LogisticRegression(max_iter=1000, class_weight='balanced') # Se balancea el modelo\n",
        "\n",
        "# Entrenar modelo\n",
        "model.fit(X_train, y_train)\n",
        "\n",
        "# Predecir en conjunto de prueba\n",
        "y_pred = model.predict(X_test)"
      ],
      "metadata": {
        "id": "oGClCFtuCfXl"
      },
      "execution_count": 24,
      "outputs": []
    },
    {
      "cell_type": "markdown",
      "source": [
        "## d) Evaluación del Modelo"
      ],
      "metadata": {
        "id": "opxLX_OBRfcN"
      }
    },
    {
      "cell_type": "code",
      "source": [
        "# Matriz de confusión\n",
        "conf_matrix = confusion_matrix(y_test, y_pred)\n",
        "\n",
        "\n",
        "# Crear visualización mejorada\n",
        "plt.figure(figsize=(8, 6))\n",
        "sns.heatmap(conf_matrix,\n",
        "            annot=True,\n",
        "            fmt='d',\n",
        "            cmap='Blues',\n",
        "            cbar=False,\n",
        "            annot_kws={'size': 15},\n",
        "            linewidths=0.5,\n",
        "            linecolor='black')\n",
        "\n",
        "# Personalizar ejes y título\n",
        "plt.title('Matriz de Confusión', fontsize=14, pad=20)\n",
        "plt.xlabel('Predicciones', fontsize=12)\n",
        "plt.ylabel('Valores Reales', fontsize=12)\n",
        "plt.xticks([0.5, 1.5], ['Negativo (0)', 'Positivo (1)'], rotation=0)\n",
        "plt.yticks([0.5, 1.5], ['Negativo (0)', 'Positivo (1)'], rotation=0)\n",
        "plt.show()\n",
        "\n",
        "# Accuracy\n",
        "accuracy = accuracy_score(y_test, y_pred)\n",
        "\n",
        "# Precision\n",
        "precision = precision_score(y_test, y_pred)\n",
        "\n",
        "# Sensitivity (Recall)\n",
        "sensitivity = recall_score(y_test, y_pred)\n",
        "\n",
        "# Specificity\n",
        "tn, fp, fn, tp = conf_matrix.ravel()\n",
        "specificity = tn / (tn + fp)\n",
        "\n",
        "# F1-score\n",
        "f1 = f1_score(y_test, y_pred)\n",
        "\n",
        "\n",
        "# Mostrar métricas adicionales\n",
        "print(\"\\nReporte de Clasificación:\\n\")\n",
        "print(f\"Accuracy: {accuracy:.2f}\")\n",
        "print(f\"Precision: {precision:.2f}\")\n",
        "print(f\"Sensitivity (Recall): {sensitivity:.2f}\")\n",
        "print(f\"Specificity: {specificity:.2f}\")\n",
        "print(f\"F1-score: {f1:.2f}\")\n",
        "\n",
        "print(\"\\n\" + \"=\"*55)\n",
        "print(classification_report(y_test, y_pred, target_names=['Clase 0', 'Clase 1']))\n",
        "print(\"=\"*55 + \"\\n\")\n"
      ],
      "metadata": {
        "colab": {
          "base_uri": "https://localhost:8080/",
          "height": 953
        },
        "id": "DJ26RfBZRmo1",
        "outputId": "4e890b82-a50b-4b78-b420-81d100b4b69a"
      },
      "execution_count": 53,
      "outputs": [
        {
          "output_type": "display_data",
          "data": {
            "text/plain": [
              "<Figure size 800x600 with 1 Axes>"
            ],
            "image/png": "[encoded data removed]"
          },
          "metadata": {}
        },
        {
          "output_type": "stream",
          "name": "stdout",
          "text": [
            "\n",
            "Reporte de Clasificación:\n",
            "\n",
            "Accuracy: 0.92\n",
            "Precision: 0.95\n",
            "Sensitivity (Recall): 0.94\n",
            "Specificity: 0.82\n",
            "F1-score: 0.95\n",
            "\n",
            "=======================================================\n",
            "              precision    recall  f1-score   support\n",
            "\n",
            "     Clase 0       0.79      0.82      0.80     15205\n",
            "     Clase 1       0.95      0.94      0.95     58313\n",
            "\n",
            "    accuracy                           0.92     73518\n",
            "   macro avg       0.87      0.88      0.88     73518\n",
            "weighted avg       0.92      0.92      0.92     73518\n",
            "\n",
            "=======================================================\n",
            "\n"
          ]
        }
      ]
    },
    {
      "cell_type": "markdown",
      "source": [
        "## e) Modelo con N-FOLDS"
      ],
      "metadata": {
        "id": "hRC5hGz6T_9G"
      }
    },
    {
      "cell_type": "markdown",
      "source": [
        "Configuramos el esquema de validación cruzada con N=10, en donde dividimos al conjunto en 10 partes, donde se entrena el modelo 9 veces con diferentes combinaciones y se evalúa en la partición restante"
      ],
      "metadata": {
        "id": "bKoRKvWLhidp"
      }
    },
    {
      "cell_type": "code",
      "source": [
        "kf = KFold(n_splits=10, shuffle=True, random_state=57)\n",
        "\n",
        "# Listas para almacenar las métricas de cada iteración\n",
        "accuracies = []\n",
        "sensitivities = []\n",
        "specificities = []\n",
        "precisions = []\n",
        "f1_scores = []\n",
        "\n",
        "conf_matrix_accumulated = np.zeros((2, 2))\n",
        "\n",
        "# Validación cruzada\n",
        "for train_index, test_index in kf.split(X): # 10 Iteraciones\n",
        "\n",
        "    # Dividir Datos de entrenamiento y prueba\n",
        "    X_train, X_test = X[train_index], X[test_index]\n",
        "    y_train, y_test = y[train_index], y[test_index]\n",
        "\n",
        "    # Modelo de regresión logística\n",
        "    model = LogisticRegression(max_iter=1000)\n",
        "\n",
        "    # Entrenar modelo\n",
        "    model.fit(X_train, y_train)\n",
        "\n",
        "    y_pred = model.predict(X_test)\n",
        "\n",
        "    # Métricas\n",
        "    accuracies.append(accuracy_score(y_test, y_pred))\n",
        "    sensitivities.append(recall_score(y_test, y_pred))\n",
        "    precisions.append(precision_score(y_test, y_pred))\n",
        "    f1_scores.append(f1_score(y_test, y_pred))\n",
        "\n",
        "    tn, fp, fn, tp = confusion_matrix(y_test, y_pred).ravel()\n",
        "    specificities.append(tn / (tn + fp))\n",
        "\n",
        "    #conf_matrix = confusion_matrix(y_test, y_pred)\n",
        "    #print(\"Matriz de Confusión:\")\n",
        "    #print(conf_matrix)\n",
        "\n",
        "    #print(f\"Accuracy: {accuracy:.4f}\")\n",
        "    #print(f\"Sensitivity (Recall): {sensitivity:.4f}\")\n",
        "    #print(f\"Specificity: {specificity:.4f}\")\n",
        "    #print(f\"Precision: {precision:.4f}\")\n",
        "    #print(f\"F1-score: {f1:.4f}\")\n",
        "\n",
        "    conf_matrix = confusion_matrix(y_test, y_pred)\n",
        "    conf_matrix_accumulated += conf_matrix"
      ],
      "metadata": {
        "id": "Vm5C8fzzWzrs"
      },
      "execution_count": 40,
      "outputs": []
    },
    {
      "cell_type": "code",
      "source": [
        "conf_matrix_avg = np.round(conf_matrix_accumulated / 10).astype(int)\n",
        "#print(\"\\nMatriz de Confusión Promedio:\")\n",
        "#print(conf_matrix_avg)\n",
        "\n",
        "plt.figure(figsize=(8, 6))\n",
        "sns.heatmap(conf_matrix_avg,\n",
        "            annot=True,\n",
        "            fmt='d',\n",
        "            cmap='Blues',\n",
        "            cbar=False,\n",
        "            annot_kws={'size': 15},\n",
        "            linewidths=0.5,\n",
        "            linecolor='black')\n",
        "\n",
        "# Personalizar ejes y título\n",
        "plt.title('Matriz de Confusión', fontsize=14, pad=20)\n",
        "plt.xlabel('Predicciones', fontsize=12)\n",
        "plt.ylabel('Valores Reales', fontsize=12)\n",
        "plt.xticks([0.5, 1.5], ['Negativo (0)', 'Positivo (1)'], rotation=0)\n",
        "plt.yticks([0.5, 1.5], ['Negativo (0)', 'Positivo (1)'], rotation=0)\n",
        "plt.show()\n",
        "\n",
        "\n",
        "print(\"\\nMétricas promedio en N-Folds Validation (N=10):\")\n",
        "print(\"\\n\" + \"=\"*55)\n",
        "print(f\"Accuracy: {np.mean(accuracies):.3f}\")\n",
        "print(f\"Sensitivity (Recall): {np.mean(sensitivities):.3f}\")\n",
        "print(f\"Specificity: {np.mean(specificities):.3f}\")\n",
        "print(f\"Precision: {np.mean(precisions):.3f}\")\n",
        "print(f\"F1-score: {np.mean(f1_scores):.3f}\")\n",
        "print(\"=\"*55 + \"\\n\")\n",
        "\n",
        "# Add this line:\n",
        "print(classification_report(y_test, y_pred, target_names=['Clase 0', 'Clase 1']))"
      ],
      "metadata": {
        "colab": {
          "base_uri": "https://localhost:8080/",
          "height": 936
        },
        "id": "tle-fO_Jixgh",
        "outputId": "a8df1468-67d3-4f57-be11-e75e085408ba"
      },
      "execution_count": 41,
      "outputs": [
        {
          "output_type": "display_data",
          "data": {
            "text/plain": [
              "<Figure size 800x600 with 1 Axes>"
            ],
            "image/png": "[encoded data removed]"
          },
          "metadata": {}
        },
        {
          "output_type": "stream",
          "name": "stdout",
          "text": [
            "\n",
            "Métricas promedio en N-Folds Validation (N=10):\n",
            "\n",
            "=======================================================\n",
            "Accuracy: 0.919\n",
            "Sensitivity (Recall): 0.944\n",
            "Specificity: 0.824\n",
            "Precision: 0.953\n",
            "F1-score: 0.949\n",
            "=======================================================\n",
            "\n",
            "              precision    recall  f1-score   support\n",
            "\n",
            "     Clase 0       0.80      0.83      0.81      5076\n",
            "     Clase 1       0.95      0.94      0.95     19429\n",
            "\n",
            "    accuracy                           0.92     24505\n",
            "   macro avg       0.88      0.89      0.88     24505\n",
            "weighted avg       0.92      0.92      0.92     24505\n",
            "\n"
          ]
        }
      ]
    },
    {
      "cell_type": "markdown",
      "source": [
        "## f) Modelo con Sub-Sampling (10 veces)"
      ],
      "metadata": {
        "id": "S6LA3SJKlE9h"
      }
    },
    {
      "cell_type": "code",
      "source": [
        "# Listas para almacenar las métricas de cada iteración\n",
        "accuracies_rs = []\n",
        "sensitivities_rs = []\n",
        "specificities_rs = []\n",
        "precisions_rs = []\n",
        "f1_scores_rs = []\n",
        "\n",
        "conf_matrix_accumulated = np.zeros((2, 2))\n",
        "\n",
        "# Repetir el random subsampling 10 veces\n",
        "for i in range(10):\n",
        "    X_train, X_test, y_train, y_test = train_test_split(X, y, test_size=0.3, random_state=i)\n",
        "\n",
        "    model = LogisticRegression(max_iter=1000)\n",
        "    model.fit(X_train, y_train)\n",
        "\n",
        "    y_pred = model.predict(X_test)\n",
        "\n",
        "    # Calcular métricas\n",
        "    accuracies_rs.append(accuracy_score(y_test, y_pred))\n",
        "    sensitivities_rs.append(recall_score(y_test, y_pred))\n",
        "    precisions_rs.append(precision_score(y_test, y_pred))\n",
        "    f1_scores_rs.append(f1_score(y_test, y_pred))\n",
        "\n",
        "    tn, fp, fn, tp = confusion_matrix(y_test, y_pred).ravel()\n",
        "    specificities_rs.append(tn / (tn + fp))\n",
        "\n",
        "    #print(f\"Accuracy: {accuracy:.4f}\")\n",
        "    #print(f\"Sensitivity (Recall): {sensitivity:.4f}\")\n",
        "    #print(f\"Specificity: {specificity:.4f}\")\n",
        "    #print(f\"Precision: {precision:.4f}\")\n",
        "    #print(f\"F1-score: {f1:.4f}\")\n",
        "\n",
        "    conf_matrix = confusion_matrix(y_test, y_pred)\n",
        "    conf_matrix_accumulated += conf_matrix\n"
      ],
      "metadata": {
        "id": "pj7H4t3DlMqh"
      },
      "execution_count": 45,
      "outputs": []
    },
    {
      "cell_type": "code",
      "source": [
        "conf_matrix_avg = np.round(conf_matrix_accumulated / 10).astype(int)\n",
        "#print(\"\\nMatriz de Confusión Promedio:\")\n",
        "#print(conf_matrix_avg)\n",
        "\n",
        "plt.figure(figsize=(8, 6))\n",
        "sns.heatmap(conf_matrix_avg,\n",
        "            annot=True,\n",
        "            fmt='d',\n",
        "            cmap='Blues',\n",
        "            cbar=False,\n",
        "            annot_kws={'size': 15},\n",
        "            linewidths=0.5,\n",
        "            linecolor='black')\n",
        "\n",
        "\n",
        "# Personalizar ejes y título\n",
        "plt.title('Matriz de Confusión', fontsize=14, pad=20)\n",
        "plt.xlabel('Predicciones', fontsize=12)\n",
        "plt.ylabel('Valores Reales', fontsize=12)\n",
        "plt.xticks([0.5, 1.5], ['Negativo (0)', 'Positivo (1)'], rotation=0)\n",
        "plt.yticks([0.5, 1.5], ['Negativo (0)', 'Positivo (1)'], rotation=0)\n",
        "plt.show()\n",
        "\n",
        "print(\"\\nMétricas promedio en Random Subsampling (10 repeticiones):\")\n",
        "print(\"\\n\" + \"=\"*55)\n",
        "print(f\"Accuracy: {np.mean(accuracies_rs):.4f}\")\n",
        "print(f\"Sensitivity (Recall): {np.mean(sensitivities_rs):.4f}\")\n",
        "print(f\"Specificity: {np.mean(specificities_rs):.4f}\")\n",
        "print(f\"Precision: {np.mean(precisions_rs):.4f}\")\n",
        "print(f\"F1-score: {np.mean(f1_scores_rs):.4f}\")\n",
        "print(f\"F1-score: {np.mean(f1_scores):.3f}\")\n",
        "print(\"=\"*55 + \"\\n\")\n"
      ],
      "metadata": {
        "colab": {
          "base_uri": "https://localhost:8080/",
          "height": 797
        },
        "id": "jD91FH_wlWGt",
        "outputId": "4adf28f9-bf83-42a8-c8e6-533e6ac7ae0a"
      },
      "execution_count": 49,
      "outputs": [
        {
          "output_type": "display_data",
          "data": {
            "text/plain": [
              "<Figure size 800x600 with 1 Axes>"
            ],
            "image/png": "[encoded data removed]"
          },
          "metadata": {}
        },
        {
          "output_type": "stream",
          "name": "stdout",
          "text": [
            "\n",
            "Métricas promedio en Random Subsampling (10 repeticiones):\n",
            "\n",
            "=======================================================\n",
            "Accuracy: 0.9187\n",
            "Sensitivity (Recall): 0.9437\n",
            "Specificity: 0.8234\n",
            "Precision: 0.9532\n",
            "F1-score: 0.9484\n",
            "F1-score: 0.949\n",
            "=======================================================\n",
            "\n"
          ]
        }
      ]
    },
    {
      "cell_type": "markdown",
      "source": [
        "# **Conclusiones Combinadas**\n",
        "\n",
        "1. **Rendimiento del Modelo:**\n",
        "La Regresión Logística aplicada para la segmentación de piel demostró ser un modelo adecuado para la tarea, alcanzando un accuracy de aproximadamente 91.90% en el conjunto original, sin datos faltantes ni eliminación de variables correlacionadas. Además, se observaron altos valores en métricas clave como recall, especificidad, precisión y F1-score, lo que indica que el modelo identifica correctamente la mayoría de los casos positivos y negativos. La consistencia en estos indicadores sugiere que el modelo tiene una buena capacidad de generalización, siendo capaz de mantener un rendimiento robusto frente a distintas divisiones de datos, como la validación cruzada y el submuestreo aleatorio.\n",
        "\n",
        "2. **Impacto de las Técnicas de Preprocesamiento y PCA:**\n",
        "El análisis comparativo mostró que la transformación de datos —ya sea eliminando variables con alta correlación (aunque en este caso, la correlación moderada entre B, G y R no justificó la eliminación de ninguna variable) o trabajando con el conjunto original— no generó diferencias significativas en el desempeño del modelo. En contraste, la aplicación de PCA para reducir la dimensionalidad a dos componentes principales resultó en una ligera disminución del accuracy (de 91.90% a 91.33%). Esto sugiere que las tres características originales capturan de manera suficiente la información relevante para la segmentación de piel, y que la reducción de dimensionalidad, si bien puede simplificar el modelo, podría eliminar información crucial.\n",
        "\n",
        "3. **Robustez y Consistencia:**\n",
        "La estabilidad en los resultados obtenidos a través de distintas metodologías (sub-sampling, validación cruzada y repeticiones) demuestra la robustez del modelo. Los métodos basados en sub-sampling y N-FOLDS, aunque presentan ligeras variaciones —por ejemplo, un mayor recall en algunos casos y una especificidad algo inferior en otros— confirman que el modelo es consistente y confiable en distintos escenarios de entrenamiento y prueba.\n",
        "\n",
        "4. **Consideraciones Adicionales:**\n",
        "\n",
        "- **Desequilibrio de Clases:** Aunque en este estudio el análisis indicó que la transformación de la variable objetivo y las medidas adoptadas fueron suficientes, se recomienda un análisis más profundo en contextos donde el desequilibrio de clases pueda ser más marcado.\n",
        "Valores Atípicos: En este caso particular no se detectaron datos atípicos, por lo que su impacto no fue evaluado. Sin embargo, en otros escenarios, la presencia de outliers podría afectar el rendimiento del modelo y requerir técnicas de manejo específicas.\n",
        "- Contexto de Aplicación: Es importante resaltar que la “precisión razonable” alcanzada debe interpretarse en función del contexto en el que se aplique el modelo. Dependiendo de la criticidad de falsos positivos o negativos, podría ser necesario optimizar aún más el modelo o explorar otros enfoques.\n",
        "\n",
        "## **Conclusión General:**\n",
        "En síntesis, la Regresión Logística ha demostrado ser una estrategia efectiva para la segmentación de piel, mostrando un rendimiento sólido y consistente. La utilización de las variables originales ***(B, G, R)*** es la opción óptima en este caso, ya que ni la eliminación de variables correlacionadas ni la reducción de dimensionalidad mediante PCA aportaron mejoras sustanciales, e incluso en el caso de PCA se produjo una leve pérdida en el ***Accuracy***."
      ],
      "metadata": {
        "id": "cFAtNpvUsvhP"
      }
    }
  ]
}