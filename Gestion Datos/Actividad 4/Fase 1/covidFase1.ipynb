{
 "cells": [
  {
   "cell_type": "code",
   "execution_count": 50,
   "metadata": {},
   "outputs": [],
   "source": [
    "import pandas as pd\n",
    "import matplotlib.pyplot as plt\n",
    "import numpy as np\n",
    "import matplotlib.ticker as ticker\n",
    "import seaborn as sns\n",
    "import plotly.express as px\n",
    "from plotly.offline import plot\n",
    "import warnings\n",
    "warnings.filterwarnings('ignore')"
   ]
  },
  {
   "cell_type": "code",
   "execution_count": 51,
   "metadata": {},
   "outputs": [],
   "source": [
    "covid_confirmado = pd.read_csv('https://raw.githubusercontent.com/CSSEGISandData/COVID-19/master/csse_covid_19_data/csse_covid_19_time_series/time_series_covid19_confirmed_global.csv')\n",
    "covid_muertes = pd.read_csv('https://raw.githubusercontent.com/CSSEGISandData/COVID-19/master/csse_covid_19_data/csse_covid_19_time_series/time_series_covid19_deaths_global.csv')\n",
    "covid_recuperados = pd.read_csv('https://raw.githubusercontent.com/CSSEGISandData/COVID-19/master/csse_covid_19_data/csse_covid_19_time_series/time_series_covid19_recovered_global.csv')"
   ]
  },
  {
   "cell_type": "code",
   "execution_count": 56,
   "metadata": {},
   "outputs": [
    {
     "name": "stdout",
     "output_type": "stream",
     "text": [
      "Shape Confirmados:  (289, 1147)\n",
      "Shape Muertes:  (289, 1147)\n",
      "Shape Recuperados:  (274, 1147)\n"
     ]
    }
   ],
   "source": [
    "#print(covid_confirmado[covid_confirmado['Country/Region'] == 'Canada'])\n",
    "#print(covid_muertes)\n",
    "#print(covid_recuperados)\n",
    "print(\"Shape Confirmados: \", covid_confirmado.shape)\n",
    "print(\"Shape Muertes: \", covid_muertes.shape)\n",
    "print(\"Shape Recuperados: \", covid_recuperados.shape)"
   ]
  },
  {
   "cell_type": "code",
   "execution_count": 57,
   "metadata": {},
   "outputs": [
    {
     "data": {
      "text/plain": [
       "Province/State    198\n",
       "Country/Region      0\n",
       "Lat                 2\n",
       "Long                2\n",
       "1/22/20             0\n",
       "                 ... \n",
       "3/5/23              0\n",
       "3/6/23              0\n",
       "3/7/23              0\n",
       "3/8/23              0\n",
       "3/9/23              0\n",
       "Length: 1147, dtype: int64"
      ]
     },
     "execution_count": 57,
     "metadata": {},
     "output_type": "execute_result"
    }
   ],
   "source": [
    "covid_confirmado.isnull().sum()"
   ]
  },
  {
   "cell_type": "code",
   "execution_count": 58,
   "metadata": {},
   "outputs": [
    {
     "data": {
      "text/plain": [
       "Province/State    198\n",
       "Country/Region      0\n",
       "Lat                 2\n",
       "Long                2\n",
       "1/22/20             0\n",
       "                 ... \n",
       "3/5/23              0\n",
       "3/6/23              0\n",
       "3/7/23              0\n",
       "3/8/23              0\n",
       "3/9/23              0\n",
       "Length: 1147, dtype: int64"
      ]
     },
     "execution_count": 58,
     "metadata": {},
     "output_type": "execute_result"
    }
   ],
   "source": [
    "covid_muertes.isnull().sum()"
   ]
  },
  {
   "cell_type": "code",
   "execution_count": 59,
   "metadata": {},
   "outputs": [
    {
     "data": {
      "text/plain": [
       "Province/State    199\n",
       "Country/Region      0\n",
       "Lat                 1\n",
       "Long                1\n",
       "1/22/20             0\n",
       "                 ... \n",
       "3/5/23              0\n",
       "3/6/23              0\n",
       "3/7/23              0\n",
       "3/8/23              0\n",
       "3/9/23              0\n",
       "Length: 1147, dtype: int64"
      ]
     },
     "execution_count": 59,
     "metadata": {},
     "output_type": "execute_result"
    }
   ],
   "source": [
    "covid_recuperados.isnull().sum()"
   ]
  },
  {
   "cell_type": "code",
   "execution_count": 49,
   "metadata": {},
   "outputs": [
    {
     "name": "stdout",
     "output_type": "stream",
     "text": [
      "<class 'pandas.core.frame.DataFrame'>\n",
      "RangeIndex: 289 entries, 0 to 288\n",
      "Columns: 1147 entries, Province/State to 3/9/23\n",
      "dtypes: float64(2), int64(1143), object(2)\n",
      "memory usage: 2.5+ MB\n"
     ]
    }
   ],
   "source": [
    "covid_confirmado.info()"
   ]
  },
  {
   "cell_type": "code",
   "execution_count": 42,
   "metadata": {},
   "outputs": [
    {
     "data": {
      "text/html": [
       "<div>\n",
       "<style scoped>\n",
       "    .dataframe tbody tr th:only-of-type {\n",
       "        vertical-align: middle;\n",
       "    }\n",
       "\n",
       "    .dataframe tbody tr th {\n",
       "        vertical-align: top;\n",
       "    }\n",
       "\n",
       "    .dataframe thead th {\n",
       "        text-align: right;\n",
       "    }\n",
       "</style>\n",
       "<table border=\"1\" class=\"dataframe\">\n",
       "  <thead>\n",
       "    <tr style=\"text-align: right;\">\n",
       "      <th></th>\n",
       "      <th>count</th>\n",
       "      <th>mean</th>\n",
       "      <th>std</th>\n",
       "      <th>min</th>\n",
       "      <th>25%</th>\n",
       "      <th>50%</th>\n",
       "      <th>75%</th>\n",
       "      <th>max</th>\n",
       "    </tr>\n",
       "  </thead>\n",
       "  <tbody>\n",
       "    <tr>\n",
       "      <th>Lat</th>\n",
       "      <td>287.0</td>\n",
       "      <td>1.971872e+01</td>\n",
       "      <td>2.595661e+01</td>\n",
       "      <td>-71.9499</td>\n",
       "      <td>4.072192</td>\n",
       "      <td>21.512583</td>\n",
       "      <td>4.040178e+01</td>\n",
       "      <td>7.170690e+01</td>\n",
       "    </tr>\n",
       "    <tr>\n",
       "      <th>Long</th>\n",
       "      <td>287.0</td>\n",
       "      <td>2.218208e+01</td>\n",
       "      <td>7.787093e+01</td>\n",
       "      <td>-178.1165</td>\n",
       "      <td>-32.823050</td>\n",
       "      <td>20.939400</td>\n",
       "      <td>8.922435e+01</td>\n",
       "      <td>1.780650e+02</td>\n",
       "    </tr>\n",
       "    <tr>\n",
       "      <th>1/22/20</th>\n",
       "      <td>289.0</td>\n",
       "      <td>1.927336e+00</td>\n",
       "      <td>2.617366e+01</td>\n",
       "      <td>0.0000</td>\n",
       "      <td>0.000000</td>\n",
       "      <td>0.000000</td>\n",
       "      <td>0.000000e+00</td>\n",
       "      <td>4.440000e+02</td>\n",
       "    </tr>\n",
       "    <tr>\n",
       "      <th>1/23/20</th>\n",
       "      <td>289.0</td>\n",
       "      <td>2.273356e+00</td>\n",
       "      <td>2.627019e+01</td>\n",
       "      <td>0.0000</td>\n",
       "      <td>0.000000</td>\n",
       "      <td>0.000000</td>\n",
       "      <td>0.000000e+00</td>\n",
       "      <td>4.440000e+02</td>\n",
       "    </tr>\n",
       "    <tr>\n",
       "      <th>1/24/20</th>\n",
       "      <td>289.0</td>\n",
       "      <td>3.266436e+00</td>\n",
       "      <td>3.270727e+01</td>\n",
       "      <td>0.0000</td>\n",
       "      <td>0.000000</td>\n",
       "      <td>0.000000</td>\n",
       "      <td>0.000000e+00</td>\n",
       "      <td>5.490000e+02</td>\n",
       "    </tr>\n",
       "    <tr>\n",
       "      <th>...</th>\n",
       "      <td>...</td>\n",
       "      <td>...</td>\n",
       "      <td>...</td>\n",
       "      <td>...</td>\n",
       "      <td>...</td>\n",
       "      <td>...</td>\n",
       "      <td>...</td>\n",
       "      <td>...</td>\n",
       "    </tr>\n",
       "    <tr>\n",
       "      <th>3/5/23</th>\n",
       "      <td>289.0</td>\n",
       "      <td>2.339187e+06</td>\n",
       "      <td>8.518645e+06</td>\n",
       "      <td>0.0000</td>\n",
       "      <td>14567.000000</td>\n",
       "      <td>103248.000000</td>\n",
       "      <td>1.052664e+06</td>\n",
       "      <td>1.036470e+08</td>\n",
       "    </tr>\n",
       "    <tr>\n",
       "      <th>3/6/23</th>\n",
       "      <td>289.0</td>\n",
       "      <td>2.339387e+06</td>\n",
       "      <td>8.519346e+06</td>\n",
       "      <td>0.0000</td>\n",
       "      <td>14567.000000</td>\n",
       "      <td>103248.000000</td>\n",
       "      <td>1.052664e+06</td>\n",
       "      <td>1.036555e+08</td>\n",
       "    </tr>\n",
       "    <tr>\n",
       "      <th>3/7/23</th>\n",
       "      <td>289.0</td>\n",
       "      <td>2.339839e+06</td>\n",
       "      <td>8.521641e+06</td>\n",
       "      <td>0.0000</td>\n",
       "      <td>14567.000000</td>\n",
       "      <td>103248.000000</td>\n",
       "      <td>1.052926e+06</td>\n",
       "      <td>1.036909e+08</td>\n",
       "    </tr>\n",
       "    <tr>\n",
       "      <th>3/8/23</th>\n",
       "      <td>289.0</td>\n",
       "      <td>2.340460e+06</td>\n",
       "      <td>8.524968e+06</td>\n",
       "      <td>0.0000</td>\n",
       "      <td>14567.000000</td>\n",
       "      <td>103248.000000</td>\n",
       "      <td>1.053068e+06</td>\n",
       "      <td>1.037558e+08</td>\n",
       "    </tr>\n",
       "    <tr>\n",
       "      <th>3/9/23</th>\n",
       "      <td>289.0</td>\n",
       "      <td>2.341073e+06</td>\n",
       "      <td>8.527765e+06</td>\n",
       "      <td>0.0000</td>\n",
       "      <td>14567.000000</td>\n",
       "      <td>103248.000000</td>\n",
       "      <td>1.053213e+06</td>\n",
       "      <td>1.038027e+08</td>\n",
       "    </tr>\n",
       "  </tbody>\n",
       "</table>\n",
       "<p>1145 rows × 8 columns</p>\n",
       "</div>"
      ],
      "text/plain": [
       "         count          mean           std       min           25%  \\\n",
       "Lat      287.0  1.971872e+01  2.595661e+01  -71.9499      4.072192   \n",
       "Long     287.0  2.218208e+01  7.787093e+01 -178.1165    -32.823050   \n",
       "1/22/20  289.0  1.927336e+00  2.617366e+01    0.0000      0.000000   \n",
       "1/23/20  289.0  2.273356e+00  2.627019e+01    0.0000      0.000000   \n",
       "1/24/20  289.0  3.266436e+00  3.270727e+01    0.0000      0.000000   \n",
       "...        ...           ...           ...       ...           ...   \n",
       "3/5/23   289.0  2.339187e+06  8.518645e+06    0.0000  14567.000000   \n",
       "3/6/23   289.0  2.339387e+06  8.519346e+06    0.0000  14567.000000   \n",
       "3/7/23   289.0  2.339839e+06  8.521641e+06    0.0000  14567.000000   \n",
       "3/8/23   289.0  2.340460e+06  8.524968e+06    0.0000  14567.000000   \n",
       "3/9/23   289.0  2.341073e+06  8.527765e+06    0.0000  14567.000000   \n",
       "\n",
       "                   50%           75%           max  \n",
       "Lat          21.512583  4.040178e+01  7.170690e+01  \n",
       "Long         20.939400  8.922435e+01  1.780650e+02  \n",
       "1/22/20       0.000000  0.000000e+00  4.440000e+02  \n",
       "1/23/20       0.000000  0.000000e+00  4.440000e+02  \n",
       "1/24/20       0.000000  0.000000e+00  5.490000e+02  \n",
       "...                ...           ...           ...  \n",
       "3/5/23   103248.000000  1.052664e+06  1.036470e+08  \n",
       "3/6/23   103248.000000  1.052664e+06  1.036555e+08  \n",
       "3/7/23   103248.000000  1.052926e+06  1.036909e+08  \n",
       "3/8/23   103248.000000  1.053068e+06  1.037558e+08  \n",
       "3/9/23   103248.000000  1.053213e+06  1.038027e+08  \n",
       "\n",
       "[1145 rows x 8 columns]"
      ]
     },
     "execution_count": 42,
     "metadata": {},
     "output_type": "execute_result"
    }
   ],
   "source": [
    "covid_confirmado.describe().T"
   ]
  }
 ],
 "metadata": {
  "kernelspec": {
   "display_name": "Python 3",
   "language": "python",
   "name": "python3"
  },
  "language_info": {
   "codemirror_mode": {
    "name": "ipython",
    "version": 3
   },
   "file_extension": ".py",
   "mimetype": "text/x-python",
   "name": "python",
   "nbconvert_exporter": "python",
   "pygments_lexer": "ipython3",
   "version": "3.11.5"
  }
 },
 "nbformat": 4,
 "nbformat_minor": 2
}
