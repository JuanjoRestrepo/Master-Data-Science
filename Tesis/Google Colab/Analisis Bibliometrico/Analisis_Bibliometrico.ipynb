{
  "nbformat": 4,
  "nbformat_minor": 0,
  "metadata": {
    "colab": {
      "provenance": []
    },
    "kernelspec": {
      "name": "python3",
      "display_name": "Python 3"
    },
    "language_info": {
      "name": "python"
    }
  },
  "cells": [
    {
      "cell_type": "code",
      "execution_count": 1,
      "metadata": {
        "id": "pzCfrUdb1B9W"
      },
      "outputs": [],
      "source": [
        "import pandas as pd\n",
        "import matplotlib.pyplot as plt\n",
        "import seaborn as sns"
      ]
    },
    {
      "cell_type": "code",
      "source": [
        "print(\"hOLA  MARIA\")"
      ],
      "metadata": {
        "id": "fEB4fI3d1g8Y",
        "colab": {
          "base_uri": "https://localhost:8080/"
        },
        "outputId": "8bee7bc7-0678-4774-8b43-860712b92b08"
      },
      "execution_count": 2,
      "outputs": [
        {
          "output_type": "stream",
          "name": "stdout",
          "text": [
            "hOLA  MARIA\n"
          ]
        }
      ]
    }
  ]
}